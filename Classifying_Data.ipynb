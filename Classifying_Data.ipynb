{
 "cells": [
  {
   "cell_type": "code",
   "execution_count": 72,
   "metadata": {
    "collapsed": true,
    "ExecuteTime": {
     "end_time": "2023-06-10T15:22:45.010316Z",
     "start_time": "2023-06-10T15:22:44.986591900Z"
    }
   },
   "outputs": [],
   "source": [
    "import pandas as pd"
   ]
  },
  {
   "cell_type": "code",
   "execution_count": 100,
   "outputs": [
    {
     "data": {
      "text/plain": "      Unnamed: 0  Time  Velocity  GForce  Acceleration   TWR   Mass   \n0              0     1        24    5.09         40.20  5.13  58.34  \\\n1              1     2        64    5.25         41.74  5.29  56.94   \n2              2     3       107    5.34         42.71  5.44  55.48   \n3              3     4       148    5.47         44.76  5.58  54.07   \n4              4     5       191    5.64         47.65  5.76  52.61   \n...          ...   ...       ...     ...           ...   ...    ...   \n3219         423   424      1613    1.40         10.60  0.00  22.30   \n3220         424   425      1603    1.58         11.94  0.00  22.30   \n3221         425   426      1593    1.75         13.32  0.00  22.30   \n3222         426   427      1580    1.95         14.99  0.00  22.30   \n3223         427   428      1565    2.15         16.76  0.00  22.30   \n\n      AltitudeFromTerrain  DownrangeDistance  Apoapsis  Inclination   \n0                  102.11               0.00       120         0.10  \\\n1                  145.38               0.00       345         0.10   \n2                  232.97               0.00       812         0.10   \n3                  357.53               0.02      1458         0.11   \n4                  526.67               0.05      2281         0.13   \n...                   ...                ...       ...          ...   \n3219              4633.32             446.16     84988         0.38   \n3220              3658.62             447.51     82432         0.38   \n3221              2762.38             448.75     79852         0.38   \n3222              1814.85             450.05     76881         0.38   \n3223               891.77             451.32     73754         0.38   \n\n      OrbitalVelocity  VesselDeltaV  Pressure  Classifier  \n0                 177          1992     99.97           1  \n1                 186          1939     99.34           1  \n2                 209          1886     98.06           1  \n3                 245          1844     96.26           1  \n4                 291          1790     93.85           1  \n...               ...           ...       ...         ...  \n3219             1759             0     48.37           3  \n3220             1749             0     56.96           3  \n3221             1738             0     65.92           3  \n3222             1725             0     76.59           3  \n3223             1710             0     88.30           3  \n\n[3224 rows x 15 columns]",
      "text/html": "<div>\n<style scoped>\n    .dataframe tbody tr th:only-of-type {\n        vertical-align: middle;\n    }\n\n    .dataframe tbody tr th {\n        vertical-align: top;\n    }\n\n    .dataframe thead th {\n        text-align: right;\n    }\n</style>\n<table border=\"1\" class=\"dataframe\">\n  <thead>\n    <tr style=\"text-align: right;\">\n      <th></th>\n      <th>Unnamed: 0</th>\n      <th>Time</th>\n      <th>Velocity</th>\n      <th>GForce</th>\n      <th>Acceleration</th>\n      <th>TWR</th>\n      <th>Mass</th>\n      <th>AltitudeFromTerrain</th>\n      <th>DownrangeDistance</th>\n      <th>Apoapsis</th>\n      <th>Inclination</th>\n      <th>OrbitalVelocity</th>\n      <th>VesselDeltaV</th>\n      <th>Pressure</th>\n      <th>Classifier</th>\n    </tr>\n  </thead>\n  <tbody>\n    <tr>\n      <th>0</th>\n      <td>0</td>\n      <td>1</td>\n      <td>24</td>\n      <td>5.09</td>\n      <td>40.20</td>\n      <td>5.13</td>\n      <td>58.34</td>\n      <td>102.11</td>\n      <td>0.00</td>\n      <td>120</td>\n      <td>0.10</td>\n      <td>177</td>\n      <td>1992</td>\n      <td>99.97</td>\n      <td>1</td>\n    </tr>\n    <tr>\n      <th>1</th>\n      <td>1</td>\n      <td>2</td>\n      <td>64</td>\n      <td>5.25</td>\n      <td>41.74</td>\n      <td>5.29</td>\n      <td>56.94</td>\n      <td>145.38</td>\n      <td>0.00</td>\n      <td>345</td>\n      <td>0.10</td>\n      <td>186</td>\n      <td>1939</td>\n      <td>99.34</td>\n      <td>1</td>\n    </tr>\n    <tr>\n      <th>2</th>\n      <td>2</td>\n      <td>3</td>\n      <td>107</td>\n      <td>5.34</td>\n      <td>42.71</td>\n      <td>5.44</td>\n      <td>55.48</td>\n      <td>232.97</td>\n      <td>0.00</td>\n      <td>812</td>\n      <td>0.10</td>\n      <td>209</td>\n      <td>1886</td>\n      <td>98.06</td>\n      <td>1</td>\n    </tr>\n    <tr>\n      <th>3</th>\n      <td>3</td>\n      <td>4</td>\n      <td>148</td>\n      <td>5.47</td>\n      <td>44.76</td>\n      <td>5.58</td>\n      <td>54.07</td>\n      <td>357.53</td>\n      <td>0.02</td>\n      <td>1458</td>\n      <td>0.11</td>\n      <td>245</td>\n      <td>1844</td>\n      <td>96.26</td>\n      <td>1</td>\n    </tr>\n    <tr>\n      <th>4</th>\n      <td>4</td>\n      <td>5</td>\n      <td>191</td>\n      <td>5.64</td>\n      <td>47.65</td>\n      <td>5.76</td>\n      <td>52.61</td>\n      <td>526.67</td>\n      <td>0.05</td>\n      <td>2281</td>\n      <td>0.13</td>\n      <td>291</td>\n      <td>1790</td>\n      <td>93.85</td>\n      <td>1</td>\n    </tr>\n    <tr>\n      <th>...</th>\n      <td>...</td>\n      <td>...</td>\n      <td>...</td>\n      <td>...</td>\n      <td>...</td>\n      <td>...</td>\n      <td>...</td>\n      <td>...</td>\n      <td>...</td>\n      <td>...</td>\n      <td>...</td>\n      <td>...</td>\n      <td>...</td>\n      <td>...</td>\n      <td>...</td>\n    </tr>\n    <tr>\n      <th>3219</th>\n      <td>423</td>\n      <td>424</td>\n      <td>1613</td>\n      <td>1.40</td>\n      <td>10.60</td>\n      <td>0.00</td>\n      <td>22.30</td>\n      <td>4633.32</td>\n      <td>446.16</td>\n      <td>84988</td>\n      <td>0.38</td>\n      <td>1759</td>\n      <td>0</td>\n      <td>48.37</td>\n      <td>3</td>\n    </tr>\n    <tr>\n      <th>3220</th>\n      <td>424</td>\n      <td>425</td>\n      <td>1603</td>\n      <td>1.58</td>\n      <td>11.94</td>\n      <td>0.00</td>\n      <td>22.30</td>\n      <td>3658.62</td>\n      <td>447.51</td>\n      <td>82432</td>\n      <td>0.38</td>\n      <td>1749</td>\n      <td>0</td>\n      <td>56.96</td>\n      <td>3</td>\n    </tr>\n    <tr>\n      <th>3221</th>\n      <td>425</td>\n      <td>426</td>\n      <td>1593</td>\n      <td>1.75</td>\n      <td>13.32</td>\n      <td>0.00</td>\n      <td>22.30</td>\n      <td>2762.38</td>\n      <td>448.75</td>\n      <td>79852</td>\n      <td>0.38</td>\n      <td>1738</td>\n      <td>0</td>\n      <td>65.92</td>\n      <td>3</td>\n    </tr>\n    <tr>\n      <th>3222</th>\n      <td>426</td>\n      <td>427</td>\n      <td>1580</td>\n      <td>1.95</td>\n      <td>14.99</td>\n      <td>0.00</td>\n      <td>22.30</td>\n      <td>1814.85</td>\n      <td>450.05</td>\n      <td>76881</td>\n      <td>0.38</td>\n      <td>1725</td>\n      <td>0</td>\n      <td>76.59</td>\n      <td>3</td>\n    </tr>\n    <tr>\n      <th>3223</th>\n      <td>427</td>\n      <td>428</td>\n      <td>1565</td>\n      <td>2.15</td>\n      <td>16.76</td>\n      <td>0.00</td>\n      <td>22.30</td>\n      <td>891.77</td>\n      <td>451.32</td>\n      <td>73754</td>\n      <td>0.38</td>\n      <td>1710</td>\n      <td>0</td>\n      <td>88.30</td>\n      <td>3</td>\n    </tr>\n  </tbody>\n</table>\n<p>3224 rows × 15 columns</p>\n</div>"
     },
     "execution_count": 100,
     "metadata": {},
     "output_type": "execute_result"
    }
   ],
   "source": [
    "data = pd.read_csv(\"D:\\\\KerbalSpaceProgram\\\\English\\\\GameData\\\\DataExport\\\\graphs\\\\training.csv\")\n",
    "data"
   ],
   "metadata": {
    "collapsed": false,
    "ExecuteTime": {
     "end_time": "2023-06-10T15:57:28.866954300Z",
     "start_time": "2023-06-10T15:57:28.833487Z"
    }
   }
  },
  {
   "cell_type": "code",
   "execution_count": 102,
   "outputs": [],
   "source": [
    "# Create a new column 'Classifier' with default value 2\n",
    "data['Classifier'] = 2\n",
    "\n",
    "# Apply conditions and update the 'Classifier' column\n",
    "data.loc[(data['Time'] < 150) & (data['Pressure'] > 0), 'Classifier'] = 1\n",
    "data.loc[(data['Time'] > 150) & (data['Pressure'] > 0), 'Classifier'] = 3\n"
   ],
   "metadata": {
    "collapsed": false,
    "ExecuteTime": {
     "end_time": "2023-06-10T15:57:41.725584800Z",
     "start_time": "2023-06-10T15:57:41.707686100Z"
    }
   }
  },
  {
   "cell_type": "code",
   "execution_count": 103,
   "outputs": [
    {
     "data": {
      "text/plain": "      Time  Velocity  GForce  Acceleration   TWR   Mass  AltitudeFromTerrain   \n0        1        24    5.09         40.20  5.13  58.34               102.11  \\\n1        2        64    5.25         41.74  5.29  56.94               145.38   \n2        3       107    5.34         42.71  5.44  55.48               232.97   \n3        4       148    5.47         44.76  5.58  54.07               357.53   \n4        5       191    5.64         47.65  5.76  52.61               526.67   \n...    ...       ...     ...           ...   ...    ...                  ...   \n3219   424      1613    1.40         10.60  0.00  22.30              4633.32   \n3220   425      1603    1.58         11.94  0.00  22.30              3658.62   \n3221   426      1593    1.75         13.32  0.00  22.30              2762.38   \n3222   427      1580    1.95         14.99  0.00  22.30              1814.85   \n3223   428      1565    2.15         16.76  0.00  22.30               891.77   \n\n      DownrangeDistance  Apoapsis  Inclination  OrbitalVelocity  VesselDeltaV   \n0                  0.00       120         0.10              177          1992  \\\n1                  0.00       345         0.10              186          1939   \n2                  0.00       812         0.10              209          1886   \n3                  0.02      1458         0.11              245          1844   \n4                  0.05      2281         0.13              291          1790   \n...                 ...       ...          ...              ...           ...   \n3219             446.16     84988         0.38             1759             0   \n3220             447.51     82432         0.38             1749             0   \n3221             448.75     79852         0.38             1738             0   \n3222             450.05     76881         0.38             1725             0   \n3223             451.32     73754         0.38             1710             0   \n\n      Pressure  Classifier  \n0        99.97           1  \n1        99.34           1  \n2        98.06           1  \n3        96.26           1  \n4        93.85           1  \n...        ...         ...  \n3219     48.37           3  \n3220     56.96           3  \n3221     65.92           3  \n3222     76.59           3  \n3223     88.30           3  \n\n[3224 rows x 14 columns]",
      "text/html": "<div>\n<style scoped>\n    .dataframe tbody tr th:only-of-type {\n        vertical-align: middle;\n    }\n\n    .dataframe tbody tr th {\n        vertical-align: top;\n    }\n\n    .dataframe thead th {\n        text-align: right;\n    }\n</style>\n<table border=\"1\" class=\"dataframe\">\n  <thead>\n    <tr style=\"text-align: right;\">\n      <th></th>\n      <th>Time</th>\n      <th>Velocity</th>\n      <th>GForce</th>\n      <th>Acceleration</th>\n      <th>TWR</th>\n      <th>Mass</th>\n      <th>AltitudeFromTerrain</th>\n      <th>DownrangeDistance</th>\n      <th>Apoapsis</th>\n      <th>Inclination</th>\n      <th>OrbitalVelocity</th>\n      <th>VesselDeltaV</th>\n      <th>Pressure</th>\n      <th>Classifier</th>\n    </tr>\n  </thead>\n  <tbody>\n    <tr>\n      <th>0</th>\n      <td>1</td>\n      <td>24</td>\n      <td>5.09</td>\n      <td>40.20</td>\n      <td>5.13</td>\n      <td>58.34</td>\n      <td>102.11</td>\n      <td>0.00</td>\n      <td>120</td>\n      <td>0.10</td>\n      <td>177</td>\n      <td>1992</td>\n      <td>99.97</td>\n      <td>1</td>\n    </tr>\n    <tr>\n      <th>1</th>\n      <td>2</td>\n      <td>64</td>\n      <td>5.25</td>\n      <td>41.74</td>\n      <td>5.29</td>\n      <td>56.94</td>\n      <td>145.38</td>\n      <td>0.00</td>\n      <td>345</td>\n      <td>0.10</td>\n      <td>186</td>\n      <td>1939</td>\n      <td>99.34</td>\n      <td>1</td>\n    </tr>\n    <tr>\n      <th>2</th>\n      <td>3</td>\n      <td>107</td>\n      <td>5.34</td>\n      <td>42.71</td>\n      <td>5.44</td>\n      <td>55.48</td>\n      <td>232.97</td>\n      <td>0.00</td>\n      <td>812</td>\n      <td>0.10</td>\n      <td>209</td>\n      <td>1886</td>\n      <td>98.06</td>\n      <td>1</td>\n    </tr>\n    <tr>\n      <th>3</th>\n      <td>4</td>\n      <td>148</td>\n      <td>5.47</td>\n      <td>44.76</td>\n      <td>5.58</td>\n      <td>54.07</td>\n      <td>357.53</td>\n      <td>0.02</td>\n      <td>1458</td>\n      <td>0.11</td>\n      <td>245</td>\n      <td>1844</td>\n      <td>96.26</td>\n      <td>1</td>\n    </tr>\n    <tr>\n      <th>4</th>\n      <td>5</td>\n      <td>191</td>\n      <td>5.64</td>\n      <td>47.65</td>\n      <td>5.76</td>\n      <td>52.61</td>\n      <td>526.67</td>\n      <td>0.05</td>\n      <td>2281</td>\n      <td>0.13</td>\n      <td>291</td>\n      <td>1790</td>\n      <td>93.85</td>\n      <td>1</td>\n    </tr>\n    <tr>\n      <th>...</th>\n      <td>...</td>\n      <td>...</td>\n      <td>...</td>\n      <td>...</td>\n      <td>...</td>\n      <td>...</td>\n      <td>...</td>\n      <td>...</td>\n      <td>...</td>\n      <td>...</td>\n      <td>...</td>\n      <td>...</td>\n      <td>...</td>\n      <td>...</td>\n    </tr>\n    <tr>\n      <th>3219</th>\n      <td>424</td>\n      <td>1613</td>\n      <td>1.40</td>\n      <td>10.60</td>\n      <td>0.00</td>\n      <td>22.30</td>\n      <td>4633.32</td>\n      <td>446.16</td>\n      <td>84988</td>\n      <td>0.38</td>\n      <td>1759</td>\n      <td>0</td>\n      <td>48.37</td>\n      <td>3</td>\n    </tr>\n    <tr>\n      <th>3220</th>\n      <td>425</td>\n      <td>1603</td>\n      <td>1.58</td>\n      <td>11.94</td>\n      <td>0.00</td>\n      <td>22.30</td>\n      <td>3658.62</td>\n      <td>447.51</td>\n      <td>82432</td>\n      <td>0.38</td>\n      <td>1749</td>\n      <td>0</td>\n      <td>56.96</td>\n      <td>3</td>\n    </tr>\n    <tr>\n      <th>3221</th>\n      <td>426</td>\n      <td>1593</td>\n      <td>1.75</td>\n      <td>13.32</td>\n      <td>0.00</td>\n      <td>22.30</td>\n      <td>2762.38</td>\n      <td>448.75</td>\n      <td>79852</td>\n      <td>0.38</td>\n      <td>1738</td>\n      <td>0</td>\n      <td>65.92</td>\n      <td>3</td>\n    </tr>\n    <tr>\n      <th>3222</th>\n      <td>427</td>\n      <td>1580</td>\n      <td>1.95</td>\n      <td>14.99</td>\n      <td>0.00</td>\n      <td>22.30</td>\n      <td>1814.85</td>\n      <td>450.05</td>\n      <td>76881</td>\n      <td>0.38</td>\n      <td>1725</td>\n      <td>0</td>\n      <td>76.59</td>\n      <td>3</td>\n    </tr>\n    <tr>\n      <th>3223</th>\n      <td>428</td>\n      <td>1565</td>\n      <td>2.15</td>\n      <td>16.76</td>\n      <td>0.00</td>\n      <td>22.30</td>\n      <td>891.77</td>\n      <td>451.32</td>\n      <td>73754</td>\n      <td>0.38</td>\n      <td>1710</td>\n      <td>0</td>\n      <td>88.30</td>\n      <td>3</td>\n    </tr>\n  </tbody>\n</table>\n<p>3224 rows × 14 columns</p>\n</div>"
     },
     "execution_count": 103,
     "metadata": {},
     "output_type": "execute_result"
    }
   ],
   "source": [
    "data.drop(\"Unnamed: 0\", axis=1)"
   ],
   "metadata": {
    "collapsed": false,
    "ExecuteTime": {
     "end_time": "2023-06-10T15:57:50.147332100Z",
     "start_time": "2023-06-10T15:57:50.119233900Z"
    }
   }
  },
  {
   "cell_type": "code",
   "execution_count": 105,
   "outputs": [],
   "source": [
    "# Save the modified DataFrame back to the CSV file\n",
    "data.to_csv('D:\\\\KerbalSpaceProgram\\\\English\\\\GameData\\\\DataExport\\\\graphs\\\\training.csv', index= False)"
   ],
   "metadata": {
    "collapsed": false,
    "ExecuteTime": {
     "end_time": "2023-06-10T15:59:20.011442900Z",
     "start_time": "2023-06-10T15:59:19.993235100Z"
    }
   }
  },
  {
   "cell_type": "code",
   "execution_count": null,
   "outputs": [],
   "source": [],
   "metadata": {
    "collapsed": false
   }
  }
 ],
 "metadata": {
  "kernelspec": {
   "display_name": "Python 3",
   "language": "python",
   "name": "python3"
  },
  "language_info": {
   "codemirror_mode": {
    "name": "ipython",
    "version": 2
   },
   "file_extension": ".py",
   "mimetype": "text/x-python",
   "name": "python",
   "nbconvert_exporter": "python",
   "pygments_lexer": "ipython2",
   "version": "2.7.6"
  }
 },
 "nbformat": 4,
 "nbformat_minor": 0
}
