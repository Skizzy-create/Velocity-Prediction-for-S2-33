{
 "cells": [
  {
   "cell_type": "code",
   "execution_count": 1,
   "metadata": {
    "collapsed": true,
    "ExecuteTime": {
     "end_time": "2023-06-10T16:01:26.340543800Z",
     "start_time": "2023-06-10T16:01:23.410198800Z"
    }
   },
   "outputs": [],
   "source": [
    "import pandas as pd"
   ]
  },
  {
   "cell_type": "code",
   "execution_count": 2,
   "outputs": [
    {
     "data": {
      "text/plain": "      Unnamed: 0.2  Unnamed: 0.1  Unnamed: 0  Time  Velocity  GForce   \n0                0           0.0         0.0     1        24    5.09  \\\n1                1           1.0         1.0     2        64    5.25   \n2                2           2.0         2.0     3       107    5.34   \n3                3           3.0         3.0     4       148    5.47   \n4                4           4.0         4.0     5       191    5.64   \n...            ...           ...         ...   ...       ...     ...   \n3219           423           NaN         NaN   424      1613    1.40   \n3220           424           NaN         NaN   425      1603    1.58   \n3221           425           NaN         NaN   426      1593    1.75   \n3222           426           NaN         NaN   427      1580    1.95   \n3223           427           NaN         NaN   428      1565    2.15   \n\n      Acceleration   TWR   Mass  AltitudeFromTerrain  DownrangeDistance   \n0            40.20  5.13  58.34               102.11               0.00  \\\n1            41.74  5.29  56.94               145.38               0.00   \n2            42.71  5.44  55.48               232.97               0.00   \n3            44.76  5.58  54.07               357.53               0.02   \n4            47.65  5.76  52.61               526.67               0.05   \n...            ...   ...    ...                  ...                ...   \n3219         10.60  0.00  22.30              4633.32             446.16   \n3220         11.94  0.00  22.30              3658.62             447.51   \n3221         13.32  0.00  22.30              2762.38             448.75   \n3222         14.99  0.00  22.30              1814.85             450.05   \n3223         16.76  0.00  22.30               891.77             451.32   \n\n      Apoapsis  Inclination  OrbitalVelocity  VesselDeltaV  Pressure   \n0          120         0.10              177          1992     99.97  \\\n1          345         0.10              186          1939     99.34   \n2          812         0.10              209          1886     98.06   \n3         1458         0.11              245          1844     96.26   \n4         2281         0.13              291          1790     93.85   \n...        ...          ...              ...           ...       ...   \n3219     84988         0.38             1759             0     48.37   \n3220     82432         0.38             1749             0     56.96   \n3221     79852         0.38             1738             0     65.92   \n3222     76881         0.38             1725             0     76.59   \n3223     73754         0.38             1710             0     88.30   \n\n      Unnamed: 13  \n0             NaN  \n1             NaN  \n2             NaN  \n3             NaN  \n4             NaN  \n...           ...  \n3219          NaN  \n3220          NaN  \n3221          NaN  \n3222          NaN  \n3223          NaN  \n\n[3224 rows x 17 columns]",
      "text/html": "<div>\n<style scoped>\n    .dataframe tbody tr th:only-of-type {\n        vertical-align: middle;\n    }\n\n    .dataframe tbody tr th {\n        vertical-align: top;\n    }\n\n    .dataframe thead th {\n        text-align: right;\n    }\n</style>\n<table border=\"1\" class=\"dataframe\">\n  <thead>\n    <tr style=\"text-align: right;\">\n      <th></th>\n      <th>Unnamed: 0.2</th>\n      <th>Unnamed: 0.1</th>\n      <th>Unnamed: 0</th>\n      <th>Time</th>\n      <th>Velocity</th>\n      <th>GForce</th>\n      <th>Acceleration</th>\n      <th>TWR</th>\n      <th>Mass</th>\n      <th>AltitudeFromTerrain</th>\n      <th>DownrangeDistance</th>\n      <th>Apoapsis</th>\n      <th>Inclination</th>\n      <th>OrbitalVelocity</th>\n      <th>VesselDeltaV</th>\n      <th>Pressure</th>\n      <th>Unnamed: 13</th>\n    </tr>\n  </thead>\n  <tbody>\n    <tr>\n      <th>0</th>\n      <td>0</td>\n      <td>0.0</td>\n      <td>0.0</td>\n      <td>1</td>\n      <td>24</td>\n      <td>5.09</td>\n      <td>40.20</td>\n      <td>5.13</td>\n      <td>58.34</td>\n      <td>102.11</td>\n      <td>0.00</td>\n      <td>120</td>\n      <td>0.10</td>\n      <td>177</td>\n      <td>1992</td>\n      <td>99.97</td>\n      <td>NaN</td>\n    </tr>\n    <tr>\n      <th>1</th>\n      <td>1</td>\n      <td>1.0</td>\n      <td>1.0</td>\n      <td>2</td>\n      <td>64</td>\n      <td>5.25</td>\n      <td>41.74</td>\n      <td>5.29</td>\n      <td>56.94</td>\n      <td>145.38</td>\n      <td>0.00</td>\n      <td>345</td>\n      <td>0.10</td>\n      <td>186</td>\n      <td>1939</td>\n      <td>99.34</td>\n      <td>NaN</td>\n    </tr>\n    <tr>\n      <th>2</th>\n      <td>2</td>\n      <td>2.0</td>\n      <td>2.0</td>\n      <td>3</td>\n      <td>107</td>\n      <td>5.34</td>\n      <td>42.71</td>\n      <td>5.44</td>\n      <td>55.48</td>\n      <td>232.97</td>\n      <td>0.00</td>\n      <td>812</td>\n      <td>0.10</td>\n      <td>209</td>\n      <td>1886</td>\n      <td>98.06</td>\n      <td>NaN</td>\n    </tr>\n    <tr>\n      <th>3</th>\n      <td>3</td>\n      <td>3.0</td>\n      <td>3.0</td>\n      <td>4</td>\n      <td>148</td>\n      <td>5.47</td>\n      <td>44.76</td>\n      <td>5.58</td>\n      <td>54.07</td>\n      <td>357.53</td>\n      <td>0.02</td>\n      <td>1458</td>\n      <td>0.11</td>\n      <td>245</td>\n      <td>1844</td>\n      <td>96.26</td>\n      <td>NaN</td>\n    </tr>\n    <tr>\n      <th>4</th>\n      <td>4</td>\n      <td>4.0</td>\n      <td>4.0</td>\n      <td>5</td>\n      <td>191</td>\n      <td>5.64</td>\n      <td>47.65</td>\n      <td>5.76</td>\n      <td>52.61</td>\n      <td>526.67</td>\n      <td>0.05</td>\n      <td>2281</td>\n      <td>0.13</td>\n      <td>291</td>\n      <td>1790</td>\n      <td>93.85</td>\n      <td>NaN</td>\n    </tr>\n    <tr>\n      <th>...</th>\n      <td>...</td>\n      <td>...</td>\n      <td>...</td>\n      <td>...</td>\n      <td>...</td>\n      <td>...</td>\n      <td>...</td>\n      <td>...</td>\n      <td>...</td>\n      <td>...</td>\n      <td>...</td>\n      <td>...</td>\n      <td>...</td>\n      <td>...</td>\n      <td>...</td>\n      <td>...</td>\n      <td>...</td>\n    </tr>\n    <tr>\n      <th>3219</th>\n      <td>423</td>\n      <td>NaN</td>\n      <td>NaN</td>\n      <td>424</td>\n      <td>1613</td>\n      <td>1.40</td>\n      <td>10.60</td>\n      <td>0.00</td>\n      <td>22.30</td>\n      <td>4633.32</td>\n      <td>446.16</td>\n      <td>84988</td>\n      <td>0.38</td>\n      <td>1759</td>\n      <td>0</td>\n      <td>48.37</td>\n      <td>NaN</td>\n    </tr>\n    <tr>\n      <th>3220</th>\n      <td>424</td>\n      <td>NaN</td>\n      <td>NaN</td>\n      <td>425</td>\n      <td>1603</td>\n      <td>1.58</td>\n      <td>11.94</td>\n      <td>0.00</td>\n      <td>22.30</td>\n      <td>3658.62</td>\n      <td>447.51</td>\n      <td>82432</td>\n      <td>0.38</td>\n      <td>1749</td>\n      <td>0</td>\n      <td>56.96</td>\n      <td>NaN</td>\n    </tr>\n    <tr>\n      <th>3221</th>\n      <td>425</td>\n      <td>NaN</td>\n      <td>NaN</td>\n      <td>426</td>\n      <td>1593</td>\n      <td>1.75</td>\n      <td>13.32</td>\n      <td>0.00</td>\n      <td>22.30</td>\n      <td>2762.38</td>\n      <td>448.75</td>\n      <td>79852</td>\n      <td>0.38</td>\n      <td>1738</td>\n      <td>0</td>\n      <td>65.92</td>\n      <td>NaN</td>\n    </tr>\n    <tr>\n      <th>3222</th>\n      <td>426</td>\n      <td>NaN</td>\n      <td>NaN</td>\n      <td>427</td>\n      <td>1580</td>\n      <td>1.95</td>\n      <td>14.99</td>\n      <td>0.00</td>\n      <td>22.30</td>\n      <td>1814.85</td>\n      <td>450.05</td>\n      <td>76881</td>\n      <td>0.38</td>\n      <td>1725</td>\n      <td>0</td>\n      <td>76.59</td>\n      <td>NaN</td>\n    </tr>\n    <tr>\n      <th>3223</th>\n      <td>427</td>\n      <td>NaN</td>\n      <td>NaN</td>\n      <td>428</td>\n      <td>1565</td>\n      <td>2.15</td>\n      <td>16.76</td>\n      <td>0.00</td>\n      <td>22.30</td>\n      <td>891.77</td>\n      <td>451.32</td>\n      <td>73754</td>\n      <td>0.38</td>\n      <td>1710</td>\n      <td>0</td>\n      <td>88.30</td>\n      <td>NaN</td>\n    </tr>\n  </tbody>\n</table>\n<p>3224 rows × 17 columns</p>\n</div>"
     },
     "execution_count": 2,
     "metadata": {},
     "output_type": "execute_result"
    }
   ],
   "source": [
    "data = pd.read_csv(\"training.csv\")\n",
    "data"
   ],
   "metadata": {
    "collapsed": false,
    "ExecuteTime": {
     "end_time": "2023-06-10T16:01:26.386051500Z",
     "start_time": "2023-06-10T16:01:26.340543800Z"
    }
   }
  },
  {
   "cell_type": "code",
   "execution_count": 3,
   "outputs": [],
   "source": [
    "# Create a new column 'Classifier' with default value 2\n",
    "data['Classifier'] = 2\n",
    "\n",
    "# Apply conditions and update the 'Classifier' column\n",
    "data.loc[(data['Time'] < 150) & (data['Pressure'] > 0), 'Classifier'] = 1\n",
    "data.loc[(data['Time'] > 150) & (data['Pressure'] > 0), 'Classifier'] = 3\n"
   ],
   "metadata": {
    "collapsed": false,
    "ExecuteTime": {
     "end_time": "2023-06-10T16:01:28.216134300Z",
     "start_time": "2023-06-10T16:01:28.198543300Z"
    }
   }
  },
  {
   "cell_type": "code",
   "execution_count": 4,
   "outputs": [
    {
     "data": {
      "text/plain": "      Unnamed: 0.2  Unnamed: 0.1  Time  Velocity  GForce  Acceleration   TWR   \n0                0           0.0     1        24    5.09         40.20  5.13  \\\n1                1           1.0     2        64    5.25         41.74  5.29   \n2                2           2.0     3       107    5.34         42.71  5.44   \n3                3           3.0     4       148    5.47         44.76  5.58   \n4                4           4.0     5       191    5.64         47.65  5.76   \n...            ...           ...   ...       ...     ...           ...   ...   \n3219           423           NaN   424      1613    1.40         10.60  0.00   \n3220           424           NaN   425      1603    1.58         11.94  0.00   \n3221           425           NaN   426      1593    1.75         13.32  0.00   \n3222           426           NaN   427      1580    1.95         14.99  0.00   \n3223           427           NaN   428      1565    2.15         16.76  0.00   \n\n       Mass  AltitudeFromTerrain  DownrangeDistance  Apoapsis  Inclination   \n0     58.34               102.11               0.00       120         0.10  \\\n1     56.94               145.38               0.00       345         0.10   \n2     55.48               232.97               0.00       812         0.10   \n3     54.07               357.53               0.02      1458         0.11   \n4     52.61               526.67               0.05      2281         0.13   \n...     ...                  ...                ...       ...          ...   \n3219  22.30              4633.32             446.16     84988         0.38   \n3220  22.30              3658.62             447.51     82432         0.38   \n3221  22.30              2762.38             448.75     79852         0.38   \n3222  22.30              1814.85             450.05     76881         0.38   \n3223  22.30               891.77             451.32     73754         0.38   \n\n      OrbitalVelocity  VesselDeltaV  Pressure  Unnamed: 13  Classifier  \n0                 177          1992     99.97          NaN           1  \n1                 186          1939     99.34          NaN           1  \n2                 209          1886     98.06          NaN           1  \n3                 245          1844     96.26          NaN           1  \n4                 291          1790     93.85          NaN           1  \n...               ...           ...       ...          ...         ...  \n3219             1759             0     48.37          NaN           3  \n3220             1749             0     56.96          NaN           3  \n3221             1738             0     65.92          NaN           3  \n3222             1725             0     76.59          NaN           3  \n3223             1710             0     88.30          NaN           3  \n\n[3224 rows x 17 columns]",
      "text/html": "<div>\n<style scoped>\n    .dataframe tbody tr th:only-of-type {\n        vertical-align: middle;\n    }\n\n    .dataframe tbody tr th {\n        vertical-align: top;\n    }\n\n    .dataframe thead th {\n        text-align: right;\n    }\n</style>\n<table border=\"1\" class=\"dataframe\">\n  <thead>\n    <tr style=\"text-align: right;\">\n      <th></th>\n      <th>Unnamed: 0.2</th>\n      <th>Unnamed: 0.1</th>\n      <th>Time</th>\n      <th>Velocity</th>\n      <th>GForce</th>\n      <th>Acceleration</th>\n      <th>TWR</th>\n      <th>Mass</th>\n      <th>AltitudeFromTerrain</th>\n      <th>DownrangeDistance</th>\n      <th>Apoapsis</th>\n      <th>Inclination</th>\n      <th>OrbitalVelocity</th>\n      <th>VesselDeltaV</th>\n      <th>Pressure</th>\n      <th>Unnamed: 13</th>\n      <th>Classifier</th>\n    </tr>\n  </thead>\n  <tbody>\n    <tr>\n      <th>0</th>\n      <td>0</td>\n      <td>0.0</td>\n      <td>1</td>\n      <td>24</td>\n      <td>5.09</td>\n      <td>40.20</td>\n      <td>5.13</td>\n      <td>58.34</td>\n      <td>102.11</td>\n      <td>0.00</td>\n      <td>120</td>\n      <td>0.10</td>\n      <td>177</td>\n      <td>1992</td>\n      <td>99.97</td>\n      <td>NaN</td>\n      <td>1</td>\n    </tr>\n    <tr>\n      <th>1</th>\n      <td>1</td>\n      <td>1.0</td>\n      <td>2</td>\n      <td>64</td>\n      <td>5.25</td>\n      <td>41.74</td>\n      <td>5.29</td>\n      <td>56.94</td>\n      <td>145.38</td>\n      <td>0.00</td>\n      <td>345</td>\n      <td>0.10</td>\n      <td>186</td>\n      <td>1939</td>\n      <td>99.34</td>\n      <td>NaN</td>\n      <td>1</td>\n    </tr>\n    <tr>\n      <th>2</th>\n      <td>2</td>\n      <td>2.0</td>\n      <td>3</td>\n      <td>107</td>\n      <td>5.34</td>\n      <td>42.71</td>\n      <td>5.44</td>\n      <td>55.48</td>\n      <td>232.97</td>\n      <td>0.00</td>\n      <td>812</td>\n      <td>0.10</td>\n      <td>209</td>\n      <td>1886</td>\n      <td>98.06</td>\n      <td>NaN</td>\n      <td>1</td>\n    </tr>\n    <tr>\n      <th>3</th>\n      <td>3</td>\n      <td>3.0</td>\n      <td>4</td>\n      <td>148</td>\n      <td>5.47</td>\n      <td>44.76</td>\n      <td>5.58</td>\n      <td>54.07</td>\n      <td>357.53</td>\n      <td>0.02</td>\n      <td>1458</td>\n      <td>0.11</td>\n      <td>245</td>\n      <td>1844</td>\n      <td>96.26</td>\n      <td>NaN</td>\n      <td>1</td>\n    </tr>\n    <tr>\n      <th>4</th>\n      <td>4</td>\n      <td>4.0</td>\n      <td>5</td>\n      <td>191</td>\n      <td>5.64</td>\n      <td>47.65</td>\n      <td>5.76</td>\n      <td>52.61</td>\n      <td>526.67</td>\n      <td>0.05</td>\n      <td>2281</td>\n      <td>0.13</td>\n      <td>291</td>\n      <td>1790</td>\n      <td>93.85</td>\n      <td>NaN</td>\n      <td>1</td>\n    </tr>\n    <tr>\n      <th>...</th>\n      <td>...</td>\n      <td>...</td>\n      <td>...</td>\n      <td>...</td>\n      <td>...</td>\n      <td>...</td>\n      <td>...</td>\n      <td>...</td>\n      <td>...</td>\n      <td>...</td>\n      <td>...</td>\n      <td>...</td>\n      <td>...</td>\n      <td>...</td>\n      <td>...</td>\n      <td>...</td>\n      <td>...</td>\n    </tr>\n    <tr>\n      <th>3219</th>\n      <td>423</td>\n      <td>NaN</td>\n      <td>424</td>\n      <td>1613</td>\n      <td>1.40</td>\n      <td>10.60</td>\n      <td>0.00</td>\n      <td>22.30</td>\n      <td>4633.32</td>\n      <td>446.16</td>\n      <td>84988</td>\n      <td>0.38</td>\n      <td>1759</td>\n      <td>0</td>\n      <td>48.37</td>\n      <td>NaN</td>\n      <td>3</td>\n    </tr>\n    <tr>\n      <th>3220</th>\n      <td>424</td>\n      <td>NaN</td>\n      <td>425</td>\n      <td>1603</td>\n      <td>1.58</td>\n      <td>11.94</td>\n      <td>0.00</td>\n      <td>22.30</td>\n      <td>3658.62</td>\n      <td>447.51</td>\n      <td>82432</td>\n      <td>0.38</td>\n      <td>1749</td>\n      <td>0</td>\n      <td>56.96</td>\n      <td>NaN</td>\n      <td>3</td>\n    </tr>\n    <tr>\n      <th>3221</th>\n      <td>425</td>\n      <td>NaN</td>\n      <td>426</td>\n      <td>1593</td>\n      <td>1.75</td>\n      <td>13.32</td>\n      <td>0.00</td>\n      <td>22.30</td>\n      <td>2762.38</td>\n      <td>448.75</td>\n      <td>79852</td>\n      <td>0.38</td>\n      <td>1738</td>\n      <td>0</td>\n      <td>65.92</td>\n      <td>NaN</td>\n      <td>3</td>\n    </tr>\n    <tr>\n      <th>3222</th>\n      <td>426</td>\n      <td>NaN</td>\n      <td>427</td>\n      <td>1580</td>\n      <td>1.95</td>\n      <td>14.99</td>\n      <td>0.00</td>\n      <td>22.30</td>\n      <td>1814.85</td>\n      <td>450.05</td>\n      <td>76881</td>\n      <td>0.38</td>\n      <td>1725</td>\n      <td>0</td>\n      <td>76.59</td>\n      <td>NaN</td>\n      <td>3</td>\n    </tr>\n    <tr>\n      <th>3223</th>\n      <td>427</td>\n      <td>NaN</td>\n      <td>428</td>\n      <td>1565</td>\n      <td>2.15</td>\n      <td>16.76</td>\n      <td>0.00</td>\n      <td>22.30</td>\n      <td>891.77</td>\n      <td>451.32</td>\n      <td>73754</td>\n      <td>0.38</td>\n      <td>1710</td>\n      <td>0</td>\n      <td>88.30</td>\n      <td>NaN</td>\n      <td>3</td>\n    </tr>\n  </tbody>\n</table>\n<p>3224 rows × 17 columns</p>\n</div>"
     },
     "execution_count": 4,
     "metadata": {},
     "output_type": "execute_result"
    }
   ],
   "source": [
    "data.drop(\"Unnamed: 0\", axis=1)"
   ],
   "metadata": {
    "collapsed": false,
    "ExecuteTime": {
     "end_time": "2023-06-10T16:01:28.918645Z",
     "start_time": "2023-06-10T16:01:28.887151Z"
    }
   }
  },
  {
   "cell_type": "code",
   "execution_count": 5,
   "outputs": [],
   "source": [
    "# Save the modified DataFrame back to the CSV file\n",
    "data.to_csv('training.csv', index= False)"
   ],
   "metadata": {
    "collapsed": false,
    "ExecuteTime": {
     "end_time": "2023-06-10T16:01:30.975874100Z",
     "start_time": "2023-06-10T16:01:30.939758100Z"
    }
   }
  },
  {
   "cell_type": "code",
   "execution_count": null,
   "outputs": [],
   "source": [],
   "metadata": {
    "collapsed": false
   }
  }
 ],
 "metadata": {
  "kernelspec": {
   "display_name": "Python 3",
   "language": "python",
   "name": "python3"
  },
  "language_info": {
   "codemirror_mode": {
    "name": "ipython",
    "version": 2
   },
   "file_extension": ".py",
   "mimetype": "text/x-python",
   "name": "python",
   "nbconvert_exporter": "python",
   "pygments_lexer": "ipython2",
   "version": "2.7.6"
  }
 },
 "nbformat": 4,
 "nbformat_minor": 0
}
