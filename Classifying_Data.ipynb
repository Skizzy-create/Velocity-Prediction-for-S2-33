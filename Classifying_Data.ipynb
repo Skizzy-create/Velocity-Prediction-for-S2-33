{
 "cells": [
  {
   "cell_type": "code",
   "execution_count": 7,
   "metadata": {
    "collapsed": true,
    "ExecuteTime": {
     "end_time": "2023-06-11T13:46:48.465041800Z",
     "start_time": "2023-06-11T13:46:48.446393600Z"
    }
   },
   "outputs": [],
   "source": [
    "import pandas as pd"
   ]
  },
  {
   "cell_type": "code",
   "execution_count": 8,
   "outputs": [
    {
     "data": {
      "text/plain": "      Unnamed: 0  Time  Velocity  GForce  Acceleration   TWR   Mass   \n0            0.0     1        24    5.09         40.20  5.13  58.34  \\\n1            1.0     2        64    5.25         41.74  5.29  56.94   \n2            2.0     3       107    5.34         42.71  5.44  55.48   \n3            3.0     4       148    5.47         44.76  5.58  54.07   \n4            4.0     5       191    5.64         47.65  5.76  52.61   \n...          ...   ...       ...     ...           ...   ...    ...   \n3219         NaN   424      1613    1.40         10.60  0.00  22.30   \n3220         NaN   425      1603    1.58         11.94  0.00  22.30   \n3221         NaN   426      1593    1.75         13.32  0.00  22.30   \n3222         NaN   427      1580    1.95         14.99  0.00  22.30   \n3223         NaN   428      1565    2.15         16.76  0.00  22.30   \n\n      AltitudeFromTerrain  DownrangeDistance  Apoapsis  Inclination   \n0                  102.11               0.00       120         0.10  \\\n1                  145.38               0.00       345         0.10   \n2                  232.97               0.00       812         0.10   \n3                  357.53               0.02      1458         0.11   \n4                  526.67               0.05      2281         0.13   \n...                   ...                ...       ...          ...   \n3219              4633.32             446.16     84988         0.38   \n3220              3658.62             447.51     82432         0.38   \n3221              2762.38             448.75     79852         0.38   \n3222              1814.85             450.05     76881         0.38   \n3223               891.77             451.32     73754         0.38   \n\n      OrbitalVelocity  VesselDeltaV  Pressure  Classifier  \n0                 177          1992     99.97           1  \n1                 186          1939     99.34           1  \n2                 209          1886     98.06           1  \n3                 245          1844     96.26           1  \n4                 291          1790     93.85           1  \n...               ...           ...       ...         ...  \n3219             1759             0     48.37           3  \n3220             1749             0     56.96           3  \n3221             1738             0     65.92           3  \n3222             1725             0     76.59           3  \n3223             1710             0     88.30           3  \n\n[3224 rows x 15 columns]",
      "text/html": "<div>\n<style scoped>\n    .dataframe tbody tr th:only-of-type {\n        vertical-align: middle;\n    }\n\n    .dataframe tbody tr th {\n        vertical-align: top;\n    }\n\n    .dataframe thead th {\n        text-align: right;\n    }\n</style>\n<table border=\"1\" class=\"dataframe\">\n  <thead>\n    <tr style=\"text-align: right;\">\n      <th></th>\n      <th>Unnamed: 0</th>\n      <th>Time</th>\n      <th>Velocity</th>\n      <th>GForce</th>\n      <th>Acceleration</th>\n      <th>TWR</th>\n      <th>Mass</th>\n      <th>AltitudeFromTerrain</th>\n      <th>DownrangeDistance</th>\n      <th>Apoapsis</th>\n      <th>Inclination</th>\n      <th>OrbitalVelocity</th>\n      <th>VesselDeltaV</th>\n      <th>Pressure</th>\n      <th>Classifier</th>\n    </tr>\n  </thead>\n  <tbody>\n    <tr>\n      <th>0</th>\n      <td>0.0</td>\n      <td>1</td>\n      <td>24</td>\n      <td>5.09</td>\n      <td>40.20</td>\n      <td>5.13</td>\n      <td>58.34</td>\n      <td>102.11</td>\n      <td>0.00</td>\n      <td>120</td>\n      <td>0.10</td>\n      <td>177</td>\n      <td>1992</td>\n      <td>99.97</td>\n      <td>1</td>\n    </tr>\n    <tr>\n      <th>1</th>\n      <td>1.0</td>\n      <td>2</td>\n      <td>64</td>\n      <td>5.25</td>\n      <td>41.74</td>\n      <td>5.29</td>\n      <td>56.94</td>\n      <td>145.38</td>\n      <td>0.00</td>\n      <td>345</td>\n      <td>0.10</td>\n      <td>186</td>\n      <td>1939</td>\n      <td>99.34</td>\n      <td>1</td>\n    </tr>\n    <tr>\n      <th>2</th>\n      <td>2.0</td>\n      <td>3</td>\n      <td>107</td>\n      <td>5.34</td>\n      <td>42.71</td>\n      <td>5.44</td>\n      <td>55.48</td>\n      <td>232.97</td>\n      <td>0.00</td>\n      <td>812</td>\n      <td>0.10</td>\n      <td>209</td>\n      <td>1886</td>\n      <td>98.06</td>\n      <td>1</td>\n    </tr>\n    <tr>\n      <th>3</th>\n      <td>3.0</td>\n      <td>4</td>\n      <td>148</td>\n      <td>5.47</td>\n      <td>44.76</td>\n      <td>5.58</td>\n      <td>54.07</td>\n      <td>357.53</td>\n      <td>0.02</td>\n      <td>1458</td>\n      <td>0.11</td>\n      <td>245</td>\n      <td>1844</td>\n      <td>96.26</td>\n      <td>1</td>\n    </tr>\n    <tr>\n      <th>4</th>\n      <td>4.0</td>\n      <td>5</td>\n      <td>191</td>\n      <td>5.64</td>\n      <td>47.65</td>\n      <td>5.76</td>\n      <td>52.61</td>\n      <td>526.67</td>\n      <td>0.05</td>\n      <td>2281</td>\n      <td>0.13</td>\n      <td>291</td>\n      <td>1790</td>\n      <td>93.85</td>\n      <td>1</td>\n    </tr>\n    <tr>\n      <th>...</th>\n      <td>...</td>\n      <td>...</td>\n      <td>...</td>\n      <td>...</td>\n      <td>...</td>\n      <td>...</td>\n      <td>...</td>\n      <td>...</td>\n      <td>...</td>\n      <td>...</td>\n      <td>...</td>\n      <td>...</td>\n      <td>...</td>\n      <td>...</td>\n      <td>...</td>\n    </tr>\n    <tr>\n      <th>3219</th>\n      <td>NaN</td>\n      <td>424</td>\n      <td>1613</td>\n      <td>1.40</td>\n      <td>10.60</td>\n      <td>0.00</td>\n      <td>22.30</td>\n      <td>4633.32</td>\n      <td>446.16</td>\n      <td>84988</td>\n      <td>0.38</td>\n      <td>1759</td>\n      <td>0</td>\n      <td>48.37</td>\n      <td>3</td>\n    </tr>\n    <tr>\n      <th>3220</th>\n      <td>NaN</td>\n      <td>425</td>\n      <td>1603</td>\n      <td>1.58</td>\n      <td>11.94</td>\n      <td>0.00</td>\n      <td>22.30</td>\n      <td>3658.62</td>\n      <td>447.51</td>\n      <td>82432</td>\n      <td>0.38</td>\n      <td>1749</td>\n      <td>0</td>\n      <td>56.96</td>\n      <td>3</td>\n    </tr>\n    <tr>\n      <th>3221</th>\n      <td>NaN</td>\n      <td>426</td>\n      <td>1593</td>\n      <td>1.75</td>\n      <td>13.32</td>\n      <td>0.00</td>\n      <td>22.30</td>\n      <td>2762.38</td>\n      <td>448.75</td>\n      <td>79852</td>\n      <td>0.38</td>\n      <td>1738</td>\n      <td>0</td>\n      <td>65.92</td>\n      <td>3</td>\n    </tr>\n    <tr>\n      <th>3222</th>\n      <td>NaN</td>\n      <td>427</td>\n      <td>1580</td>\n      <td>1.95</td>\n      <td>14.99</td>\n      <td>0.00</td>\n      <td>22.30</td>\n      <td>1814.85</td>\n      <td>450.05</td>\n      <td>76881</td>\n      <td>0.38</td>\n      <td>1725</td>\n      <td>0</td>\n      <td>76.59</td>\n      <td>3</td>\n    </tr>\n    <tr>\n      <th>3223</th>\n      <td>NaN</td>\n      <td>428</td>\n      <td>1565</td>\n      <td>2.15</td>\n      <td>16.76</td>\n      <td>0.00</td>\n      <td>22.30</td>\n      <td>891.77</td>\n      <td>451.32</td>\n      <td>73754</td>\n      <td>0.38</td>\n      <td>1710</td>\n      <td>0</td>\n      <td>88.30</td>\n      <td>3</td>\n    </tr>\n  </tbody>\n</table>\n<p>3224 rows × 15 columns</p>\n</div>"
     },
     "execution_count": 8,
     "metadata": {},
     "output_type": "execute_result"
    }
   ],
   "source": [
    "data = pd.read_csv(\"training.csv\")\n",
    "data"
   ],
   "metadata": {
    "collapsed": false,
    "ExecuteTime": {
     "end_time": "2023-06-11T13:46:48.916940600Z",
     "start_time": "2023-06-11T13:46:48.892050400Z"
    }
   }
  },
  {
   "cell_type": "code",
   "execution_count": 9,
   "outputs": [],
   "source": [
    "# Create a new column 'Classifier' with default value 2\n",
    "data['Classifier'] = 2\n",
    "\n",
    "# Apply conditions and update the 'Classifier' column\n",
    "data.loc[(data['Time'] < 150) & (data['Pressure'] > 0), 'Classifier'] = 1\n",
    "data.loc[(data['Time'] > 150) & (data['Pressure'] > 0), 'Classifier'] = 3\n"
   ],
   "metadata": {
    "collapsed": false,
    "ExecuteTime": {
     "end_time": "2023-06-11T13:46:51.850221200Z",
     "start_time": "2023-06-11T13:46:51.831756100Z"
    }
   }
  },
  {
   "cell_type": "code",
   "execution_count": 10,
   "outputs": [
    {
     "ename": "KeyError",
     "evalue": "\"['Unnamed: 13'] not found in axis\"",
     "output_type": "error",
     "traceback": [
      "\u001B[1;31m---------------------------------------------------------------------------\u001B[0m",
      "\u001B[1;31mKeyError\u001B[0m                                  Traceback (most recent call last)",
      "Cell \u001B[1;32mIn[10], line 2\u001B[0m\n\u001B[0;32m      1\u001B[0m data \u001B[38;5;241m=\u001B[39m data\u001B[38;5;241m.\u001B[39mdrop(\u001B[38;5;124m\"\u001B[39m\u001B[38;5;124mUnnamed: 0\u001B[39m\u001B[38;5;124m\"\u001B[39m, axis\u001B[38;5;241m=\u001B[39m\u001B[38;5;241m1\u001B[39m)\n\u001B[1;32m----> 2\u001B[0m data \u001B[38;5;241m=\u001B[39m \u001B[43mdata\u001B[49m\u001B[38;5;241;43m.\u001B[39;49m\u001B[43mdrop\u001B[49m\u001B[43m(\u001B[49m\u001B[38;5;124;43m\"\u001B[39;49m\u001B[38;5;124;43mUnnamed: 13\u001B[39;49m\u001B[38;5;124;43m\"\u001B[39;49m\u001B[43m,\u001B[49m\u001B[43m \u001B[49m\u001B[43maxis\u001B[49m\u001B[38;5;241;43m=\u001B[39;49m\u001B[38;5;241;43m1\u001B[39;49m\u001B[43m)\u001B[49m\n",
      "File \u001B[1;32mD:\\Python 3\\Lib\\site-packages\\pandas\\core\\frame.py:5268\u001B[0m, in \u001B[0;36mDataFrame.drop\u001B[1;34m(self, labels, axis, index, columns, level, inplace, errors)\u001B[0m\n\u001B[0;32m   5120\u001B[0m \u001B[38;5;28;01mdef\u001B[39;00m \u001B[38;5;21mdrop\u001B[39m(\n\u001B[0;32m   5121\u001B[0m     \u001B[38;5;28mself\u001B[39m,\n\u001B[0;32m   5122\u001B[0m     labels: IndexLabel \u001B[38;5;241m=\u001B[39m \u001B[38;5;28;01mNone\u001B[39;00m,\n\u001B[1;32m   (...)\u001B[0m\n\u001B[0;32m   5129\u001B[0m     errors: IgnoreRaise \u001B[38;5;241m=\u001B[39m \u001B[38;5;124m\"\u001B[39m\u001B[38;5;124mraise\u001B[39m\u001B[38;5;124m\"\u001B[39m,\n\u001B[0;32m   5130\u001B[0m ) \u001B[38;5;241m-\u001B[39m\u001B[38;5;241m>\u001B[39m DataFrame \u001B[38;5;241m|\u001B[39m \u001B[38;5;28;01mNone\u001B[39;00m:\n\u001B[0;32m   5131\u001B[0m \u001B[38;5;250m    \u001B[39m\u001B[38;5;124;03m\"\"\"\u001B[39;00m\n\u001B[0;32m   5132\u001B[0m \u001B[38;5;124;03m    Drop specified labels from rows or columns.\u001B[39;00m\n\u001B[0;32m   5133\u001B[0m \n\u001B[1;32m   (...)\u001B[0m\n\u001B[0;32m   5266\u001B[0m \u001B[38;5;124;03m            weight  1.0     0.8\u001B[39;00m\n\u001B[0;32m   5267\u001B[0m \u001B[38;5;124;03m    \"\"\"\u001B[39;00m\n\u001B[1;32m-> 5268\u001B[0m     \u001B[38;5;28;01mreturn\u001B[39;00m \u001B[38;5;28;43msuper\u001B[39;49m\u001B[43m(\u001B[49m\u001B[43m)\u001B[49m\u001B[38;5;241;43m.\u001B[39;49m\u001B[43mdrop\u001B[49m\u001B[43m(\u001B[49m\n\u001B[0;32m   5269\u001B[0m \u001B[43m        \u001B[49m\u001B[43mlabels\u001B[49m\u001B[38;5;241;43m=\u001B[39;49m\u001B[43mlabels\u001B[49m\u001B[43m,\u001B[49m\n\u001B[0;32m   5270\u001B[0m \u001B[43m        \u001B[49m\u001B[43maxis\u001B[49m\u001B[38;5;241;43m=\u001B[39;49m\u001B[43maxis\u001B[49m\u001B[43m,\u001B[49m\n\u001B[0;32m   5271\u001B[0m \u001B[43m        \u001B[49m\u001B[43mindex\u001B[49m\u001B[38;5;241;43m=\u001B[39;49m\u001B[43mindex\u001B[49m\u001B[43m,\u001B[49m\n\u001B[0;32m   5272\u001B[0m \u001B[43m        \u001B[49m\u001B[43mcolumns\u001B[49m\u001B[38;5;241;43m=\u001B[39;49m\u001B[43mcolumns\u001B[49m\u001B[43m,\u001B[49m\n\u001B[0;32m   5273\u001B[0m \u001B[43m        \u001B[49m\u001B[43mlevel\u001B[49m\u001B[38;5;241;43m=\u001B[39;49m\u001B[43mlevel\u001B[49m\u001B[43m,\u001B[49m\n\u001B[0;32m   5274\u001B[0m \u001B[43m        \u001B[49m\u001B[43minplace\u001B[49m\u001B[38;5;241;43m=\u001B[39;49m\u001B[43minplace\u001B[49m\u001B[43m,\u001B[49m\n\u001B[0;32m   5275\u001B[0m \u001B[43m        \u001B[49m\u001B[43merrors\u001B[49m\u001B[38;5;241;43m=\u001B[39;49m\u001B[43merrors\u001B[49m\u001B[43m,\u001B[49m\n\u001B[0;32m   5276\u001B[0m \u001B[43m    \u001B[49m\u001B[43m)\u001B[49m\n",
      "File \u001B[1;32mD:\\Python 3\\Lib\\site-packages\\pandas\\core\\generic.py:4549\u001B[0m, in \u001B[0;36mNDFrame.drop\u001B[1;34m(self, labels, axis, index, columns, level, inplace, errors)\u001B[0m\n\u001B[0;32m   4547\u001B[0m \u001B[38;5;28;01mfor\u001B[39;00m axis, labels \u001B[38;5;129;01min\u001B[39;00m axes\u001B[38;5;241m.\u001B[39mitems():\n\u001B[0;32m   4548\u001B[0m     \u001B[38;5;28;01mif\u001B[39;00m labels \u001B[38;5;129;01mis\u001B[39;00m \u001B[38;5;129;01mnot\u001B[39;00m \u001B[38;5;28;01mNone\u001B[39;00m:\n\u001B[1;32m-> 4549\u001B[0m         obj \u001B[38;5;241m=\u001B[39m \u001B[43mobj\u001B[49m\u001B[38;5;241;43m.\u001B[39;49m\u001B[43m_drop_axis\u001B[49m\u001B[43m(\u001B[49m\u001B[43mlabels\u001B[49m\u001B[43m,\u001B[49m\u001B[43m \u001B[49m\u001B[43maxis\u001B[49m\u001B[43m,\u001B[49m\u001B[43m \u001B[49m\u001B[43mlevel\u001B[49m\u001B[38;5;241;43m=\u001B[39;49m\u001B[43mlevel\u001B[49m\u001B[43m,\u001B[49m\u001B[43m \u001B[49m\u001B[43merrors\u001B[49m\u001B[38;5;241;43m=\u001B[39;49m\u001B[43merrors\u001B[49m\u001B[43m)\u001B[49m\n\u001B[0;32m   4551\u001B[0m \u001B[38;5;28;01mif\u001B[39;00m inplace:\n\u001B[0;32m   4552\u001B[0m     \u001B[38;5;28mself\u001B[39m\u001B[38;5;241m.\u001B[39m_update_inplace(obj)\n",
      "File \u001B[1;32mD:\\Python 3\\Lib\\site-packages\\pandas\\core\\generic.py:4591\u001B[0m, in \u001B[0;36mNDFrame._drop_axis\u001B[1;34m(self, labels, axis, level, errors, only_slice)\u001B[0m\n\u001B[0;32m   4589\u001B[0m         new_axis \u001B[38;5;241m=\u001B[39m axis\u001B[38;5;241m.\u001B[39mdrop(labels, level\u001B[38;5;241m=\u001B[39mlevel, errors\u001B[38;5;241m=\u001B[39merrors)\n\u001B[0;32m   4590\u001B[0m     \u001B[38;5;28;01melse\u001B[39;00m:\n\u001B[1;32m-> 4591\u001B[0m         new_axis \u001B[38;5;241m=\u001B[39m \u001B[43maxis\u001B[49m\u001B[38;5;241;43m.\u001B[39;49m\u001B[43mdrop\u001B[49m\u001B[43m(\u001B[49m\u001B[43mlabels\u001B[49m\u001B[43m,\u001B[49m\u001B[43m \u001B[49m\u001B[43merrors\u001B[49m\u001B[38;5;241;43m=\u001B[39;49m\u001B[43merrors\u001B[49m\u001B[43m)\u001B[49m\n\u001B[0;32m   4592\u001B[0m     indexer \u001B[38;5;241m=\u001B[39m axis\u001B[38;5;241m.\u001B[39mget_indexer(new_axis)\n\u001B[0;32m   4594\u001B[0m \u001B[38;5;66;03m# Case for non-unique axis\u001B[39;00m\n\u001B[0;32m   4595\u001B[0m \u001B[38;5;28;01melse\u001B[39;00m:\n",
      "File \u001B[1;32mD:\\Python 3\\Lib\\site-packages\\pandas\\core\\indexes\\base.py:6696\u001B[0m, in \u001B[0;36mIndex.drop\u001B[1;34m(self, labels, errors)\u001B[0m\n\u001B[0;32m   6694\u001B[0m \u001B[38;5;28;01mif\u001B[39;00m mask\u001B[38;5;241m.\u001B[39many():\n\u001B[0;32m   6695\u001B[0m     \u001B[38;5;28;01mif\u001B[39;00m errors \u001B[38;5;241m!=\u001B[39m \u001B[38;5;124m\"\u001B[39m\u001B[38;5;124mignore\u001B[39m\u001B[38;5;124m\"\u001B[39m:\n\u001B[1;32m-> 6696\u001B[0m         \u001B[38;5;28;01mraise\u001B[39;00m \u001B[38;5;167;01mKeyError\u001B[39;00m(\u001B[38;5;124mf\u001B[39m\u001B[38;5;124m\"\u001B[39m\u001B[38;5;132;01m{\u001B[39;00m\u001B[38;5;28mlist\u001B[39m(labels[mask])\u001B[38;5;132;01m}\u001B[39;00m\u001B[38;5;124m not found in axis\u001B[39m\u001B[38;5;124m\"\u001B[39m)\n\u001B[0;32m   6697\u001B[0m     indexer \u001B[38;5;241m=\u001B[39m indexer[\u001B[38;5;241m~\u001B[39mmask]\n\u001B[0;32m   6698\u001B[0m \u001B[38;5;28;01mreturn\u001B[39;00m \u001B[38;5;28mself\u001B[39m\u001B[38;5;241m.\u001B[39mdelete(indexer)\n",
      "\u001B[1;31mKeyError\u001B[0m: \"['Unnamed: 13'] not found in axis\""
     ]
    }
   ],
   "source": [
    "data = data.drop(\"Unnamed: 0\", axis=1)\n",
    "data = data.drop(\"Unnamed: 13\", axis=1)"
   ],
   "metadata": {
    "collapsed": false,
    "ExecuteTime": {
     "end_time": "2023-06-11T13:46:56.809259200Z",
     "start_time": "2023-06-11T13:46:56.769936Z"
    }
   }
  },
  {
   "cell_type": "code",
   "execution_count": 11,
   "outputs": [],
   "source": [
    "# Save the modified DataFrame back to the CSV file\n",
    "data.to_csv('training.csv', index= False)"
   ],
   "metadata": {
    "collapsed": false,
    "ExecuteTime": {
     "end_time": "2023-06-11T13:46:58.735415400Z",
     "start_time": "2023-06-11T13:46:58.704052100Z"
    }
   }
  },
  {
   "cell_type": "code",
   "execution_count": null,
   "outputs": [],
   "source": [],
   "metadata": {
    "collapsed": false
   }
  }
 ],
 "metadata": {
  "kernelspec": {
   "display_name": "Python 3",
   "language": "python",
   "name": "python3"
  },
  "language_info": {
   "codemirror_mode": {
    "name": "ipython",
    "version": 2
   },
   "file_extension": ".py",
   "mimetype": "text/x-python",
   "name": "python",
   "nbconvert_exporter": "python",
   "pygments_lexer": "ipython2",
   "version": "2.7.6"
  }
 },
 "nbformat": 4,
 "nbformat_minor": 0
}
