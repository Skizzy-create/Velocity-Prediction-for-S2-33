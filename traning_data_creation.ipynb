{
 "cells": [
  {
   "cell_type": "markdown",
   "source": [
    "# Do not run all cells , only run when new data is added and only run that cell to append"
   ],
   "metadata": {
    "collapsed": false
   }
  },
  {
   "cell_type": "code",
   "execution_count": 3,
   "metadata": {
    "collapsed": true,
    "ExecuteTime": {
     "end_time": "2023-06-10T13:03:57.686714700Z",
     "start_time": "2023-06-10T13:03:57.277632700Z"
    }
   },
   "outputs": [],
   "source": [
    "import pandas as pd"
   ]
  },
  {
   "cell_type": "code",
   "execution_count": 4,
   "outputs": [
    {
     "name": "stdout",
     "output_type": "stream",
     "text": [
      "DATA1 imported\n",
      "DATA2 imported\n",
      "DATA3 imported\n",
      "DATA4 imported\n",
      "DATA5 imported\n",
      "DATA6 imported\n",
      "Training imported\n"
     ]
    }
   ],
   "source": [
    "data1 = pd.read_csv(\"D:\\\\KerbalSpaceProgram\\\\English\\\\GameData\\\\DataExport\\\\graphs\\\\1.csv\")\n",
    "print(\"DATA1 imported\")\n",
    "data2 = pd.read_csv(\"D:\\\\KerbalSpaceProgram\\\\English\\\\GameData\\\\DataExport\\\\graphs\\\\2.csv\")\n",
    "print(\"DATA2 imported\")\n",
    "data3 = pd.read_csv(\"D:\\\\KerbalSpaceProgram\\\\English\\\\GameData\\\\DataExport\\\\graphs\\\\3.csv\")\n",
    "print(\"DATA3 imported\")\n",
    "data4 = pd.read_csv(\"D:\\\\KerbalSpaceProgram\\\\English\\\\GameData\\\\DataExport\\\\graphs\\\\4.csv\")\n",
    "print(\"DATA4 imported\")\n",
    "data5 = pd.read_csv(\"D:\\\\KerbalSpaceProgram\\\\English\\\\GameData\\\\DataExport\\\\graphs\\\\5.csv\")\n",
    "print(\"DATA5 imported\")\n",
    "data6 = pd.read_csv(\"D:\\\\KerbalSpaceProgram\\\\English\\\\GameData\\\\DataExport\\\\graphs\\\\6.csv\")\n",
    "print(\"DATA6 imported\")\n",
    "training = pd.read_csv(\"D:\\\\KerbalSpaceProgram\\\\English\\\\GameData\\\\DataExport\\\\graphs\\\\training.csv\")\n",
    "print(\"Training imported\")"
   ],
   "metadata": {
    "collapsed": false,
    "ExecuteTime": {
     "end_time": "2023-06-10T13:03:58.215131500Z",
     "start_time": "2023-06-10T13:03:58.177201400Z"
    }
   }
  },
  {
   "cell_type": "code",
   "execution_count": 5,
   "outputs": [
    {
     "data": {
      "text/plain": "      Unnamed: 0.1  Unnamed: 0  Time  Velocity  GForce  Acceleration   TWR   \n0                0         0.0     1        24    5.09         40.20  5.13  \\\n1                1         1.0     2        64    5.25         41.74  5.29   \n2                2         2.0     3       107    5.34         42.71  5.44   \n3                3         3.0     4       148    5.47         44.76  5.58   \n4                4         4.0     5       191    5.64         47.65  5.76   \n...            ...         ...   ...       ...     ...           ...   ...   \n2791           551         NaN   552      1749    0.75          5.25  0.00   \n2792           552         NaN   553      1748    0.99          5.68  0.00   \n2793           553         NaN   554      1744    1.21          6.79  0.00   \n2794           554         NaN   555      1738    1.47          8.60  0.00   \n2795           555         NaN   556      1729    1.75         10.90  0.00   \n\n       Mass  AltitudeFromTerrain  DownrangeDistance  Apoapsis  Inclination   \n0     58.34               102.11               0.00       120         0.10  \\\n1     56.94               145.38               0.00       345         0.10   \n2     55.48               232.97               0.00       812         0.10   \n3     54.07               357.53               0.02      1458         0.11   \n4     52.61               526.67               0.05      2281         0.13   \n...     ...                  ...                ...       ...          ...   \n2791  22.30              9650.50             398.13    173294        40.45   \n2792  22.30              8245.29             399.21    170630        40.44   \n2793  22.30              6896.18             400.24    167468        40.43   \n2794  22.30              5494.88             401.32    163529        40.41   \n2795  22.30              4153.25             402.35    159076        40.38   \n\n      OrbitalVelocity  VesselDeltaV  Pressure  Unnamed: 13  \n0                 177          1992     99.97          NaN  \n1                 186          1939     99.34          NaN  \n2                 209          1886     98.06          NaN  \n3                 245          1844     96.26          NaN  \n4                 291          1790     93.85          NaN  \n...               ...           ...       ...          ...  \n2791             1833             0     19.07          NaN  \n2792             1832             0     25.11          NaN  \n2793             1828             0     32.36          NaN  \n2794             1821             0     41.61          NaN  \n2795             1812             0     52.37          NaN  \n\n[2796 rows x 16 columns]",
      "text/html": "<div>\n<style scoped>\n    .dataframe tbody tr th:only-of-type {\n        vertical-align: middle;\n    }\n\n    .dataframe tbody tr th {\n        vertical-align: top;\n    }\n\n    .dataframe thead th {\n        text-align: right;\n    }\n</style>\n<table border=\"1\" class=\"dataframe\">\n  <thead>\n    <tr style=\"text-align: right;\">\n      <th></th>\n      <th>Unnamed: 0.1</th>\n      <th>Unnamed: 0</th>\n      <th>Time</th>\n      <th>Velocity</th>\n      <th>GForce</th>\n      <th>Acceleration</th>\n      <th>TWR</th>\n      <th>Mass</th>\n      <th>AltitudeFromTerrain</th>\n      <th>DownrangeDistance</th>\n      <th>Apoapsis</th>\n      <th>Inclination</th>\n      <th>OrbitalVelocity</th>\n      <th>VesselDeltaV</th>\n      <th>Pressure</th>\n      <th>Unnamed: 13</th>\n    </tr>\n  </thead>\n  <tbody>\n    <tr>\n      <th>0</th>\n      <td>0</td>\n      <td>0.0</td>\n      <td>1</td>\n      <td>24</td>\n      <td>5.09</td>\n      <td>40.20</td>\n      <td>5.13</td>\n      <td>58.34</td>\n      <td>102.11</td>\n      <td>0.00</td>\n      <td>120</td>\n      <td>0.10</td>\n      <td>177</td>\n      <td>1992</td>\n      <td>99.97</td>\n      <td>NaN</td>\n    </tr>\n    <tr>\n      <th>1</th>\n      <td>1</td>\n      <td>1.0</td>\n      <td>2</td>\n      <td>64</td>\n      <td>5.25</td>\n      <td>41.74</td>\n      <td>5.29</td>\n      <td>56.94</td>\n      <td>145.38</td>\n      <td>0.00</td>\n      <td>345</td>\n      <td>0.10</td>\n      <td>186</td>\n      <td>1939</td>\n      <td>99.34</td>\n      <td>NaN</td>\n    </tr>\n    <tr>\n      <th>2</th>\n      <td>2</td>\n      <td>2.0</td>\n      <td>3</td>\n      <td>107</td>\n      <td>5.34</td>\n      <td>42.71</td>\n      <td>5.44</td>\n      <td>55.48</td>\n      <td>232.97</td>\n      <td>0.00</td>\n      <td>812</td>\n      <td>0.10</td>\n      <td>209</td>\n      <td>1886</td>\n      <td>98.06</td>\n      <td>NaN</td>\n    </tr>\n    <tr>\n      <th>3</th>\n      <td>3</td>\n      <td>3.0</td>\n      <td>4</td>\n      <td>148</td>\n      <td>5.47</td>\n      <td>44.76</td>\n      <td>5.58</td>\n      <td>54.07</td>\n      <td>357.53</td>\n      <td>0.02</td>\n      <td>1458</td>\n      <td>0.11</td>\n      <td>245</td>\n      <td>1844</td>\n      <td>96.26</td>\n      <td>NaN</td>\n    </tr>\n    <tr>\n      <th>4</th>\n      <td>4</td>\n      <td>4.0</td>\n      <td>5</td>\n      <td>191</td>\n      <td>5.64</td>\n      <td>47.65</td>\n      <td>5.76</td>\n      <td>52.61</td>\n      <td>526.67</td>\n      <td>0.05</td>\n      <td>2281</td>\n      <td>0.13</td>\n      <td>291</td>\n      <td>1790</td>\n      <td>93.85</td>\n      <td>NaN</td>\n    </tr>\n    <tr>\n      <th>...</th>\n      <td>...</td>\n      <td>...</td>\n      <td>...</td>\n      <td>...</td>\n      <td>...</td>\n      <td>...</td>\n      <td>...</td>\n      <td>...</td>\n      <td>...</td>\n      <td>...</td>\n      <td>...</td>\n      <td>...</td>\n      <td>...</td>\n      <td>...</td>\n      <td>...</td>\n      <td>...</td>\n    </tr>\n    <tr>\n      <th>2791</th>\n      <td>551</td>\n      <td>NaN</td>\n      <td>552</td>\n      <td>1749</td>\n      <td>0.75</td>\n      <td>5.25</td>\n      <td>0.00</td>\n      <td>22.30</td>\n      <td>9650.50</td>\n      <td>398.13</td>\n      <td>173294</td>\n      <td>40.45</td>\n      <td>1833</td>\n      <td>0</td>\n      <td>19.07</td>\n      <td>NaN</td>\n    </tr>\n    <tr>\n      <th>2792</th>\n      <td>552</td>\n      <td>NaN</td>\n      <td>553</td>\n      <td>1748</td>\n      <td>0.99</td>\n      <td>5.68</td>\n      <td>0.00</td>\n      <td>22.30</td>\n      <td>8245.29</td>\n      <td>399.21</td>\n      <td>170630</td>\n      <td>40.44</td>\n      <td>1832</td>\n      <td>0</td>\n      <td>25.11</td>\n      <td>NaN</td>\n    </tr>\n    <tr>\n      <th>2793</th>\n      <td>553</td>\n      <td>NaN</td>\n      <td>554</td>\n      <td>1744</td>\n      <td>1.21</td>\n      <td>6.79</td>\n      <td>0.00</td>\n      <td>22.30</td>\n      <td>6896.18</td>\n      <td>400.24</td>\n      <td>167468</td>\n      <td>40.43</td>\n      <td>1828</td>\n      <td>0</td>\n      <td>32.36</td>\n      <td>NaN</td>\n    </tr>\n    <tr>\n      <th>2794</th>\n      <td>554</td>\n      <td>NaN</td>\n      <td>555</td>\n      <td>1738</td>\n      <td>1.47</td>\n      <td>8.60</td>\n      <td>0.00</td>\n      <td>22.30</td>\n      <td>5494.88</td>\n      <td>401.32</td>\n      <td>163529</td>\n      <td>40.41</td>\n      <td>1821</td>\n      <td>0</td>\n      <td>41.61</td>\n      <td>NaN</td>\n    </tr>\n    <tr>\n      <th>2795</th>\n      <td>555</td>\n      <td>NaN</td>\n      <td>556</td>\n      <td>1729</td>\n      <td>1.75</td>\n      <td>10.90</td>\n      <td>0.00</td>\n      <td>22.30</td>\n      <td>4153.25</td>\n      <td>402.35</td>\n      <td>159076</td>\n      <td>40.38</td>\n      <td>1812</td>\n      <td>0</td>\n      <td>52.37</td>\n      <td>NaN</td>\n    </tr>\n  </tbody>\n</table>\n<p>2796 rows × 16 columns</p>\n</div>"
     },
     "execution_count": 5,
     "metadata": {},
     "output_type": "execute_result"
    }
   ],
   "source": [
    "training"
   ],
   "metadata": {
    "collapsed": false,
    "ExecuteTime": {
     "end_time": "2023-06-10T13:03:59.090892700Z",
     "start_time": "2023-06-10T13:03:59.053958Z"
    }
   }
  },
  {
   "cell_type": "markdown",
   "source": [
    "# add the new data in place of data5 in the below code, remove the comment # and run it."
   ],
   "metadata": {
    "collapsed": false
   }
  },
  {
   "cell_type": "code",
   "execution_count": 6,
   "outputs": [],
   "source": [
    "training = training._append(data6)"
   ],
   "metadata": {
    "collapsed": false,
    "ExecuteTime": {
     "end_time": "2023-06-10T13:04:12.381287700Z",
     "start_time": "2023-06-10T13:04:12.349836500Z"
    }
   }
  },
  {
   "cell_type": "code",
   "execution_count": 7,
   "outputs": [],
   "source": [
    "training.to_csv(\"D:\\\\KerbalSpaceProgram\\\\English\\\\GameData\\\\DataExport\\\\graphs\\\\training.csv\")"
   ],
   "metadata": {
    "collapsed": false,
    "ExecuteTime": {
     "end_time": "2023-06-10T13:04:14.962679400Z",
     "start_time": "2023-06-10T13:04:14.926002Z"
    }
   }
  },
  {
   "cell_type": "code",
   "execution_count": 8,
   "outputs": [
    {
     "data": {
      "text/plain": "     Unnamed: 0.1  Unnamed: 0  Time  Velocity  GForce  Acceleration   TWR   \n0             0.0         0.0     1        24    5.09         40.20  5.13  \\\n1             1.0         1.0     2        64    5.25         41.74  5.29   \n2             2.0         2.0     3       107    5.34         42.71  5.44   \n3             3.0         3.0     4       148    5.47         44.76  5.58   \n4             4.0         4.0     5       191    5.64         47.65  5.76   \n..            ...         ...   ...       ...     ...           ...   ...   \n423           NaN         NaN   424      1613    1.40         10.60  0.00   \n424           NaN         NaN   425      1603    1.58         11.94  0.00   \n425           NaN         NaN   426      1593    1.75         13.32  0.00   \n426           NaN         NaN   427      1580    1.95         14.99  0.00   \n427           NaN         NaN   428      1565    2.15         16.76  0.00   \n\n      Mass  AltitudeFromTerrain  DownrangeDistance  Apoapsis  Inclination   \n0    58.34               102.11               0.00       120         0.10  \\\n1    56.94               145.38               0.00       345         0.10   \n2    55.48               232.97               0.00       812         0.10   \n3    54.07               357.53               0.02      1458         0.11   \n4    52.61               526.67               0.05      2281         0.13   \n..     ...                  ...                ...       ...          ...   \n423  22.30              4633.32             446.16     84988         0.38   \n424  22.30              3658.62             447.51     82432         0.38   \n425  22.30              2762.38             448.75     79852         0.38   \n426  22.30              1814.85             450.05     76881         0.38   \n427  22.30               891.77             451.32     73754         0.38   \n\n     OrbitalVelocity  VesselDeltaV  Pressure  Unnamed: 13  \n0                177          1992     99.97          NaN  \n1                186          1939     99.34          NaN  \n2                209          1886     98.06          NaN  \n3                245          1844     96.26          NaN  \n4                291          1790     93.85          NaN  \n..               ...           ...       ...          ...  \n423             1759             0     48.37          NaN  \n424             1749             0     56.96          NaN  \n425             1738             0     65.92          NaN  \n426             1725             0     76.59          NaN  \n427             1710             0     88.30          NaN  \n\n[3224 rows x 16 columns]",
      "text/html": "<div>\n<style scoped>\n    .dataframe tbody tr th:only-of-type {\n        vertical-align: middle;\n    }\n\n    .dataframe tbody tr th {\n        vertical-align: top;\n    }\n\n    .dataframe thead th {\n        text-align: right;\n    }\n</style>\n<table border=\"1\" class=\"dataframe\">\n  <thead>\n    <tr style=\"text-align: right;\">\n      <th></th>\n      <th>Unnamed: 0.1</th>\n      <th>Unnamed: 0</th>\n      <th>Time</th>\n      <th>Velocity</th>\n      <th>GForce</th>\n      <th>Acceleration</th>\n      <th>TWR</th>\n      <th>Mass</th>\n      <th>AltitudeFromTerrain</th>\n      <th>DownrangeDistance</th>\n      <th>Apoapsis</th>\n      <th>Inclination</th>\n      <th>OrbitalVelocity</th>\n      <th>VesselDeltaV</th>\n      <th>Pressure</th>\n      <th>Unnamed: 13</th>\n    </tr>\n  </thead>\n  <tbody>\n    <tr>\n      <th>0</th>\n      <td>0.0</td>\n      <td>0.0</td>\n      <td>1</td>\n      <td>24</td>\n      <td>5.09</td>\n      <td>40.20</td>\n      <td>5.13</td>\n      <td>58.34</td>\n      <td>102.11</td>\n      <td>0.00</td>\n      <td>120</td>\n      <td>0.10</td>\n      <td>177</td>\n      <td>1992</td>\n      <td>99.97</td>\n      <td>NaN</td>\n    </tr>\n    <tr>\n      <th>1</th>\n      <td>1.0</td>\n      <td>1.0</td>\n      <td>2</td>\n      <td>64</td>\n      <td>5.25</td>\n      <td>41.74</td>\n      <td>5.29</td>\n      <td>56.94</td>\n      <td>145.38</td>\n      <td>0.00</td>\n      <td>345</td>\n      <td>0.10</td>\n      <td>186</td>\n      <td>1939</td>\n      <td>99.34</td>\n      <td>NaN</td>\n    </tr>\n    <tr>\n      <th>2</th>\n      <td>2.0</td>\n      <td>2.0</td>\n      <td>3</td>\n      <td>107</td>\n      <td>5.34</td>\n      <td>42.71</td>\n      <td>5.44</td>\n      <td>55.48</td>\n      <td>232.97</td>\n      <td>0.00</td>\n      <td>812</td>\n      <td>0.10</td>\n      <td>209</td>\n      <td>1886</td>\n      <td>98.06</td>\n      <td>NaN</td>\n    </tr>\n    <tr>\n      <th>3</th>\n      <td>3.0</td>\n      <td>3.0</td>\n      <td>4</td>\n      <td>148</td>\n      <td>5.47</td>\n      <td>44.76</td>\n      <td>5.58</td>\n      <td>54.07</td>\n      <td>357.53</td>\n      <td>0.02</td>\n      <td>1458</td>\n      <td>0.11</td>\n      <td>245</td>\n      <td>1844</td>\n      <td>96.26</td>\n      <td>NaN</td>\n    </tr>\n    <tr>\n      <th>4</th>\n      <td>4.0</td>\n      <td>4.0</td>\n      <td>5</td>\n      <td>191</td>\n      <td>5.64</td>\n      <td>47.65</td>\n      <td>5.76</td>\n      <td>52.61</td>\n      <td>526.67</td>\n      <td>0.05</td>\n      <td>2281</td>\n      <td>0.13</td>\n      <td>291</td>\n      <td>1790</td>\n      <td>93.85</td>\n      <td>NaN</td>\n    </tr>\n    <tr>\n      <th>...</th>\n      <td>...</td>\n      <td>...</td>\n      <td>...</td>\n      <td>...</td>\n      <td>...</td>\n      <td>...</td>\n      <td>...</td>\n      <td>...</td>\n      <td>...</td>\n      <td>...</td>\n      <td>...</td>\n      <td>...</td>\n      <td>...</td>\n      <td>...</td>\n      <td>...</td>\n      <td>...</td>\n    </tr>\n    <tr>\n      <th>423</th>\n      <td>NaN</td>\n      <td>NaN</td>\n      <td>424</td>\n      <td>1613</td>\n      <td>1.40</td>\n      <td>10.60</td>\n      <td>0.00</td>\n      <td>22.30</td>\n      <td>4633.32</td>\n      <td>446.16</td>\n      <td>84988</td>\n      <td>0.38</td>\n      <td>1759</td>\n      <td>0</td>\n      <td>48.37</td>\n      <td>NaN</td>\n    </tr>\n    <tr>\n      <th>424</th>\n      <td>NaN</td>\n      <td>NaN</td>\n      <td>425</td>\n      <td>1603</td>\n      <td>1.58</td>\n      <td>11.94</td>\n      <td>0.00</td>\n      <td>22.30</td>\n      <td>3658.62</td>\n      <td>447.51</td>\n      <td>82432</td>\n      <td>0.38</td>\n      <td>1749</td>\n      <td>0</td>\n      <td>56.96</td>\n      <td>NaN</td>\n    </tr>\n    <tr>\n      <th>425</th>\n      <td>NaN</td>\n      <td>NaN</td>\n      <td>426</td>\n      <td>1593</td>\n      <td>1.75</td>\n      <td>13.32</td>\n      <td>0.00</td>\n      <td>22.30</td>\n      <td>2762.38</td>\n      <td>448.75</td>\n      <td>79852</td>\n      <td>0.38</td>\n      <td>1738</td>\n      <td>0</td>\n      <td>65.92</td>\n      <td>NaN</td>\n    </tr>\n    <tr>\n      <th>426</th>\n      <td>NaN</td>\n      <td>NaN</td>\n      <td>427</td>\n      <td>1580</td>\n      <td>1.95</td>\n      <td>14.99</td>\n      <td>0.00</td>\n      <td>22.30</td>\n      <td>1814.85</td>\n      <td>450.05</td>\n      <td>76881</td>\n      <td>0.38</td>\n      <td>1725</td>\n      <td>0</td>\n      <td>76.59</td>\n      <td>NaN</td>\n    </tr>\n    <tr>\n      <th>427</th>\n      <td>NaN</td>\n      <td>NaN</td>\n      <td>428</td>\n      <td>1565</td>\n      <td>2.15</td>\n      <td>16.76</td>\n      <td>0.00</td>\n      <td>22.30</td>\n      <td>891.77</td>\n      <td>451.32</td>\n      <td>73754</td>\n      <td>0.38</td>\n      <td>1710</td>\n      <td>0</td>\n      <td>88.30</td>\n      <td>NaN</td>\n    </tr>\n  </tbody>\n</table>\n<p>3224 rows × 16 columns</p>\n</div>"
     },
     "execution_count": 8,
     "metadata": {},
     "output_type": "execute_result"
    }
   ],
   "source": [
    "training"
   ],
   "metadata": {
    "collapsed": false,
    "ExecuteTime": {
     "end_time": "2023-06-10T13:05:35.788084100Z",
     "start_time": "2023-06-10T13:05:35.773207700Z"
    }
   }
  },
  {
   "cell_type": "code",
   "execution_count": null,
   "outputs": [],
   "source": [],
   "metadata": {
    "collapsed": false
   }
  }
 ],
 "metadata": {
  "kernelspec": {
   "display_name": "Python 3",
   "language": "python",
   "name": "python3"
  },
  "language_info": {
   "codemirror_mode": {
    "name": "ipython",
    "version": 2
   },
   "file_extension": ".py",
   "mimetype": "text/x-python",
   "name": "python",
   "nbconvert_exporter": "python",
   "pygments_lexer": "ipython2",
   "version": "2.7.6"
  }
 },
 "nbformat": 4,
 "nbformat_minor": 0
}
