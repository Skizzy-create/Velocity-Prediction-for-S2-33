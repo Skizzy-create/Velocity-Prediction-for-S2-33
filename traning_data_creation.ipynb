{
 "cells": [
  {
   "cell_type": "markdown",
   "source": [
    "# Do not run all cells , only run when new data is added and only run that cell to append"
   ],
   "metadata": {
    "collapsed": false
   }
  },
  {
   "cell_type": "code",
   "execution_count": 8,
   "metadata": {
    "collapsed": true,
    "ExecuteTime": {
     "end_time": "2023-06-11T13:41:23.319194800Z",
     "start_time": "2023-06-11T13:41:23.303134800Z"
    }
   },
   "outputs": [],
   "source": [
    "import pandas as pd"
   ]
  },
  {
   "cell_type": "code",
   "execution_count": 14,
   "outputs": [
    {
     "name": "stdout",
     "output_type": "stream",
     "text": [
      "DATA1 imported\n",
      "Training imported\n"
     ]
    }
   ],
   "source": [
    "data7 = pd.read_csv(\"7.csv\")\n",
    "print(\"DATA1 imported\")\n",
    "\n",
    "training = pd.read_csv(\"training.csv\")\n",
    "print(\"Training imported\")"
   ],
   "metadata": {
    "collapsed": false,
    "ExecuteTime": {
     "end_time": "2023-06-11T13:41:36.114660500Z",
     "start_time": "2023-06-11T13:41:36.096033700Z"
    }
   }
  },
  {
   "cell_type": "code",
   "execution_count": 15,
   "outputs": [
    {
     "data": {
      "text/plain": "      Unnamed: 0  Time  Velocity  GForce  Acceleration   TWR   Mass   \n0              0     1        24    5.09         40.20  5.13  58.34  \\\n1              1     2        64    5.25         41.74  5.29  56.94   \n2              2     3       107    5.34         42.71  5.44  55.48   \n3              3     4       148    5.47         44.76  5.58  54.07   \n4              4     5       191    5.64         47.65  5.76  52.61   \n...          ...   ...       ...     ...           ...   ...    ...   \n3973         372   373      1403    1.06          5.56  0.00  22.30   \n3974         373   374      1400    1.23          6.46  0.00  22.30   \n3975         374   375      1394    1.43          7.79  0.00  22.30   \n3976         375   376      1387    1.64          9.42  0.00  22.30   \n3977         376   377      1377    1.88         11.45  0.00  22.30   \n\n      AltitudeFromTerrain  DownrangeDistance  Apoapsis  Inclination   \n0                  102.11               0.00       120         0.10  \\\n1                  145.38               0.00       345         0.10   \n2                  232.97               0.00       812         0.10   \n3                  357.53               0.02      1458         0.11   \n4                  526.67               0.05      2281         0.13   \n...                   ...                ...       ...          ...   \n3973              4791.99             230.90     96026        37.06   \n3974              3670.41             231.69     94089        37.03   \n3975              2505.33             232.50     91776        36.98   \n3976              1389.65             233.28     89258        36.93   \n3977               234.08             234.08     86301        36.87   \n\n      OrbitalVelocity  VesselDeltaV  Pressure  Classifier  Unnamed: 13  \n0                 177          1992     99.97         1.0          NaN  \n1                 186          1939     99.34         1.0          NaN  \n2                 209          1886     98.06         1.0          NaN  \n3                 245          1844     96.26         1.0          NaN  \n4                 291          1790     93.85         1.0          NaN  \n...               ...           ...       ...         ...          ...  \n3973             1486             0     47.03         NaN          NaN  \n3974             1482             0     56.79         NaN          NaN  \n3975             1476             0     68.61         NaN          NaN  \n3976             1468             0     81.73         NaN          NaN  \n3977             1458             0     97.40         NaN          NaN  \n\n[3978 rows x 16 columns]",
      "text/html": "<div>\n<style scoped>\n    .dataframe tbody tr th:only-of-type {\n        vertical-align: middle;\n    }\n\n    .dataframe tbody tr th {\n        vertical-align: top;\n    }\n\n    .dataframe thead th {\n        text-align: right;\n    }\n</style>\n<table border=\"1\" class=\"dataframe\">\n  <thead>\n    <tr style=\"text-align: right;\">\n      <th></th>\n      <th>Unnamed: 0</th>\n      <th>Time</th>\n      <th>Velocity</th>\n      <th>GForce</th>\n      <th>Acceleration</th>\n      <th>TWR</th>\n      <th>Mass</th>\n      <th>AltitudeFromTerrain</th>\n      <th>DownrangeDistance</th>\n      <th>Apoapsis</th>\n      <th>Inclination</th>\n      <th>OrbitalVelocity</th>\n      <th>VesselDeltaV</th>\n      <th>Pressure</th>\n      <th>Classifier</th>\n      <th>Unnamed: 13</th>\n    </tr>\n  </thead>\n  <tbody>\n    <tr>\n      <th>0</th>\n      <td>0</td>\n      <td>1</td>\n      <td>24</td>\n      <td>5.09</td>\n      <td>40.20</td>\n      <td>5.13</td>\n      <td>58.34</td>\n      <td>102.11</td>\n      <td>0.00</td>\n      <td>120</td>\n      <td>0.10</td>\n      <td>177</td>\n      <td>1992</td>\n      <td>99.97</td>\n      <td>1.0</td>\n      <td>NaN</td>\n    </tr>\n    <tr>\n      <th>1</th>\n      <td>1</td>\n      <td>2</td>\n      <td>64</td>\n      <td>5.25</td>\n      <td>41.74</td>\n      <td>5.29</td>\n      <td>56.94</td>\n      <td>145.38</td>\n      <td>0.00</td>\n      <td>345</td>\n      <td>0.10</td>\n      <td>186</td>\n      <td>1939</td>\n      <td>99.34</td>\n      <td>1.0</td>\n      <td>NaN</td>\n    </tr>\n    <tr>\n      <th>2</th>\n      <td>2</td>\n      <td>3</td>\n      <td>107</td>\n      <td>5.34</td>\n      <td>42.71</td>\n      <td>5.44</td>\n      <td>55.48</td>\n      <td>232.97</td>\n      <td>0.00</td>\n      <td>812</td>\n      <td>0.10</td>\n      <td>209</td>\n      <td>1886</td>\n      <td>98.06</td>\n      <td>1.0</td>\n      <td>NaN</td>\n    </tr>\n    <tr>\n      <th>3</th>\n      <td>3</td>\n      <td>4</td>\n      <td>148</td>\n      <td>5.47</td>\n      <td>44.76</td>\n      <td>5.58</td>\n      <td>54.07</td>\n      <td>357.53</td>\n      <td>0.02</td>\n      <td>1458</td>\n      <td>0.11</td>\n      <td>245</td>\n      <td>1844</td>\n      <td>96.26</td>\n      <td>1.0</td>\n      <td>NaN</td>\n    </tr>\n    <tr>\n      <th>4</th>\n      <td>4</td>\n      <td>5</td>\n      <td>191</td>\n      <td>5.64</td>\n      <td>47.65</td>\n      <td>5.76</td>\n      <td>52.61</td>\n      <td>526.67</td>\n      <td>0.05</td>\n      <td>2281</td>\n      <td>0.13</td>\n      <td>291</td>\n      <td>1790</td>\n      <td>93.85</td>\n      <td>1.0</td>\n      <td>NaN</td>\n    </tr>\n    <tr>\n      <th>...</th>\n      <td>...</td>\n      <td>...</td>\n      <td>...</td>\n      <td>...</td>\n      <td>...</td>\n      <td>...</td>\n      <td>...</td>\n      <td>...</td>\n      <td>...</td>\n      <td>...</td>\n      <td>...</td>\n      <td>...</td>\n      <td>...</td>\n      <td>...</td>\n      <td>...</td>\n      <td>...</td>\n    </tr>\n    <tr>\n      <th>3973</th>\n      <td>372</td>\n      <td>373</td>\n      <td>1403</td>\n      <td>1.06</td>\n      <td>5.56</td>\n      <td>0.00</td>\n      <td>22.30</td>\n      <td>4791.99</td>\n      <td>230.90</td>\n      <td>96026</td>\n      <td>37.06</td>\n      <td>1486</td>\n      <td>0</td>\n      <td>47.03</td>\n      <td>NaN</td>\n      <td>NaN</td>\n    </tr>\n    <tr>\n      <th>3974</th>\n      <td>373</td>\n      <td>374</td>\n      <td>1400</td>\n      <td>1.23</td>\n      <td>6.46</td>\n      <td>0.00</td>\n      <td>22.30</td>\n      <td>3670.41</td>\n      <td>231.69</td>\n      <td>94089</td>\n      <td>37.03</td>\n      <td>1482</td>\n      <td>0</td>\n      <td>56.79</td>\n      <td>NaN</td>\n      <td>NaN</td>\n    </tr>\n    <tr>\n      <th>3975</th>\n      <td>374</td>\n      <td>375</td>\n      <td>1394</td>\n      <td>1.43</td>\n      <td>7.79</td>\n      <td>0.00</td>\n      <td>22.30</td>\n      <td>2505.33</td>\n      <td>232.50</td>\n      <td>91776</td>\n      <td>36.98</td>\n      <td>1476</td>\n      <td>0</td>\n      <td>68.61</td>\n      <td>NaN</td>\n      <td>NaN</td>\n    </tr>\n    <tr>\n      <th>3976</th>\n      <td>375</td>\n      <td>376</td>\n      <td>1387</td>\n      <td>1.64</td>\n      <td>9.42</td>\n      <td>0.00</td>\n      <td>22.30</td>\n      <td>1389.65</td>\n      <td>233.28</td>\n      <td>89258</td>\n      <td>36.93</td>\n      <td>1468</td>\n      <td>0</td>\n      <td>81.73</td>\n      <td>NaN</td>\n      <td>NaN</td>\n    </tr>\n    <tr>\n      <th>3977</th>\n      <td>376</td>\n      <td>377</td>\n      <td>1377</td>\n      <td>1.88</td>\n      <td>11.45</td>\n      <td>0.00</td>\n      <td>22.30</td>\n      <td>234.08</td>\n      <td>234.08</td>\n      <td>86301</td>\n      <td>36.87</td>\n      <td>1458</td>\n      <td>0</td>\n      <td>97.40</td>\n      <td>NaN</td>\n      <td>NaN</td>\n    </tr>\n  </tbody>\n</table>\n<p>3978 rows × 16 columns</p>\n</div>"
     },
     "execution_count": 15,
     "metadata": {},
     "output_type": "execute_result"
    }
   ],
   "source": [
    "training"
   ],
   "metadata": {
    "collapsed": false,
    "ExecuteTime": {
     "end_time": "2023-06-11T13:41:38.681970700Z",
     "start_time": "2023-06-11T13:41:38.650650300Z"
    }
   }
  },
  {
   "cell_type": "markdown",
   "source": [
    "# add the new data in place of data5 in the below code, remove the comment # and run it."
   ],
   "metadata": {
    "collapsed": false
   }
  },
  {
   "cell_type": "code",
   "execution_count": 16,
   "outputs": [],
   "source": [
    "training = training._append(data7)"
   ],
   "metadata": {
    "collapsed": false,
    "ExecuteTime": {
     "end_time": "2023-06-11T13:41:41.099762Z",
     "start_time": "2023-06-11T13:41:41.081384500Z"
    }
   }
  },
  {
   "cell_type": "code",
   "execution_count": 17,
   "outputs": [],
   "source": [
    "training.to_csv(\"training.csv\")"
   ],
   "metadata": {
    "collapsed": false,
    "ExecuteTime": {
     "end_time": "2023-06-11T13:41:41.796262400Z",
     "start_time": "2023-06-11T13:41:41.769167Z"
    }
   }
  },
  {
   "cell_type": "code",
   "execution_count": 18,
   "outputs": [
    {
     "data": {
      "text/plain": "     Unnamed: 0  Time  Velocity  GForce  Acceleration   TWR   Mass   \n0           0.0     1        24    5.09         40.20  5.13  58.34  \\\n1           1.0     2        64    5.25         41.74  5.29  56.94   \n2           2.0     3       107    5.34         42.71  5.44  55.48   \n3           3.0     4       148    5.47         44.76  5.58  54.07   \n4           4.0     5       191    5.64         47.65  5.76  52.61   \n..          ...   ...       ...     ...           ...   ...    ...   \n372         NaN   373      1403    1.06          5.56  0.00  22.30   \n373         NaN   374      1400    1.23          6.46  0.00  22.30   \n374         NaN   375      1394    1.43          7.79  0.00  22.30   \n375         NaN   376      1387    1.64          9.42  0.00  22.30   \n376         NaN   377      1377    1.88         11.45  0.00  22.30   \n\n     AltitudeFromTerrain  DownrangeDistance  Apoapsis  Inclination   \n0                 102.11               0.00       120         0.10  \\\n1                 145.38               0.00       345         0.10   \n2                 232.97               0.00       812         0.10   \n3                 357.53               0.02      1458         0.11   \n4                 526.67               0.05      2281         0.13   \n..                   ...                ...       ...          ...   \n372              4791.99             230.90     96026        37.06   \n373              3670.41             231.69     94089        37.03   \n374              2505.33             232.50     91776        36.98   \n375              1389.65             233.28     89258        36.93   \n376               234.08             234.08     86301        36.87   \n\n     OrbitalVelocity  VesselDeltaV  Pressure  Classifier  Unnamed: 13  \n0                177          1992     99.97         1.0          NaN  \n1                186          1939     99.34         1.0          NaN  \n2                209          1886     98.06         1.0          NaN  \n3                245          1844     96.26         1.0          NaN  \n4                291          1790     93.85         1.0          NaN  \n..               ...           ...       ...         ...          ...  \n372             1486             0     47.03         NaN          NaN  \n373             1482             0     56.79         NaN          NaN  \n374             1476             0     68.61         NaN          NaN  \n375             1468             0     81.73         NaN          NaN  \n376             1458             0     97.40         NaN          NaN  \n\n[4355 rows x 16 columns]",
      "text/html": "<div>\n<style scoped>\n    .dataframe tbody tr th:only-of-type {\n        vertical-align: middle;\n    }\n\n    .dataframe tbody tr th {\n        vertical-align: top;\n    }\n\n    .dataframe thead th {\n        text-align: right;\n    }\n</style>\n<table border=\"1\" class=\"dataframe\">\n  <thead>\n    <tr style=\"text-align: right;\">\n      <th></th>\n      <th>Unnamed: 0</th>\n      <th>Time</th>\n      <th>Velocity</th>\n      <th>GForce</th>\n      <th>Acceleration</th>\n      <th>TWR</th>\n      <th>Mass</th>\n      <th>AltitudeFromTerrain</th>\n      <th>DownrangeDistance</th>\n      <th>Apoapsis</th>\n      <th>Inclination</th>\n      <th>OrbitalVelocity</th>\n      <th>VesselDeltaV</th>\n      <th>Pressure</th>\n      <th>Classifier</th>\n      <th>Unnamed: 13</th>\n    </tr>\n  </thead>\n  <tbody>\n    <tr>\n      <th>0</th>\n      <td>0.0</td>\n      <td>1</td>\n      <td>24</td>\n      <td>5.09</td>\n      <td>40.20</td>\n      <td>5.13</td>\n      <td>58.34</td>\n      <td>102.11</td>\n      <td>0.00</td>\n      <td>120</td>\n      <td>0.10</td>\n      <td>177</td>\n      <td>1992</td>\n      <td>99.97</td>\n      <td>1.0</td>\n      <td>NaN</td>\n    </tr>\n    <tr>\n      <th>1</th>\n      <td>1.0</td>\n      <td>2</td>\n      <td>64</td>\n      <td>5.25</td>\n      <td>41.74</td>\n      <td>5.29</td>\n      <td>56.94</td>\n      <td>145.38</td>\n      <td>0.00</td>\n      <td>345</td>\n      <td>0.10</td>\n      <td>186</td>\n      <td>1939</td>\n      <td>99.34</td>\n      <td>1.0</td>\n      <td>NaN</td>\n    </tr>\n    <tr>\n      <th>2</th>\n      <td>2.0</td>\n      <td>3</td>\n      <td>107</td>\n      <td>5.34</td>\n      <td>42.71</td>\n      <td>5.44</td>\n      <td>55.48</td>\n      <td>232.97</td>\n      <td>0.00</td>\n      <td>812</td>\n      <td>0.10</td>\n      <td>209</td>\n      <td>1886</td>\n      <td>98.06</td>\n      <td>1.0</td>\n      <td>NaN</td>\n    </tr>\n    <tr>\n      <th>3</th>\n      <td>3.0</td>\n      <td>4</td>\n      <td>148</td>\n      <td>5.47</td>\n      <td>44.76</td>\n      <td>5.58</td>\n      <td>54.07</td>\n      <td>357.53</td>\n      <td>0.02</td>\n      <td>1458</td>\n      <td>0.11</td>\n      <td>245</td>\n      <td>1844</td>\n      <td>96.26</td>\n      <td>1.0</td>\n      <td>NaN</td>\n    </tr>\n    <tr>\n      <th>4</th>\n      <td>4.0</td>\n      <td>5</td>\n      <td>191</td>\n      <td>5.64</td>\n      <td>47.65</td>\n      <td>5.76</td>\n      <td>52.61</td>\n      <td>526.67</td>\n      <td>0.05</td>\n      <td>2281</td>\n      <td>0.13</td>\n      <td>291</td>\n      <td>1790</td>\n      <td>93.85</td>\n      <td>1.0</td>\n      <td>NaN</td>\n    </tr>\n    <tr>\n      <th>...</th>\n      <td>...</td>\n      <td>...</td>\n      <td>...</td>\n      <td>...</td>\n      <td>...</td>\n      <td>...</td>\n      <td>...</td>\n      <td>...</td>\n      <td>...</td>\n      <td>...</td>\n      <td>...</td>\n      <td>...</td>\n      <td>...</td>\n      <td>...</td>\n      <td>...</td>\n      <td>...</td>\n    </tr>\n    <tr>\n      <th>372</th>\n      <td>NaN</td>\n      <td>373</td>\n      <td>1403</td>\n      <td>1.06</td>\n      <td>5.56</td>\n      <td>0.00</td>\n      <td>22.30</td>\n      <td>4791.99</td>\n      <td>230.90</td>\n      <td>96026</td>\n      <td>37.06</td>\n      <td>1486</td>\n      <td>0</td>\n      <td>47.03</td>\n      <td>NaN</td>\n      <td>NaN</td>\n    </tr>\n    <tr>\n      <th>373</th>\n      <td>NaN</td>\n      <td>374</td>\n      <td>1400</td>\n      <td>1.23</td>\n      <td>6.46</td>\n      <td>0.00</td>\n      <td>22.30</td>\n      <td>3670.41</td>\n      <td>231.69</td>\n      <td>94089</td>\n      <td>37.03</td>\n      <td>1482</td>\n      <td>0</td>\n      <td>56.79</td>\n      <td>NaN</td>\n      <td>NaN</td>\n    </tr>\n    <tr>\n      <th>374</th>\n      <td>NaN</td>\n      <td>375</td>\n      <td>1394</td>\n      <td>1.43</td>\n      <td>7.79</td>\n      <td>0.00</td>\n      <td>22.30</td>\n      <td>2505.33</td>\n      <td>232.50</td>\n      <td>91776</td>\n      <td>36.98</td>\n      <td>1476</td>\n      <td>0</td>\n      <td>68.61</td>\n      <td>NaN</td>\n      <td>NaN</td>\n    </tr>\n    <tr>\n      <th>375</th>\n      <td>NaN</td>\n      <td>376</td>\n      <td>1387</td>\n      <td>1.64</td>\n      <td>9.42</td>\n      <td>0.00</td>\n      <td>22.30</td>\n      <td>1389.65</td>\n      <td>233.28</td>\n      <td>89258</td>\n      <td>36.93</td>\n      <td>1468</td>\n      <td>0</td>\n      <td>81.73</td>\n      <td>NaN</td>\n      <td>NaN</td>\n    </tr>\n    <tr>\n      <th>376</th>\n      <td>NaN</td>\n      <td>377</td>\n      <td>1377</td>\n      <td>1.88</td>\n      <td>11.45</td>\n      <td>0.00</td>\n      <td>22.30</td>\n      <td>234.08</td>\n      <td>234.08</td>\n      <td>86301</td>\n      <td>36.87</td>\n      <td>1458</td>\n      <td>0</td>\n      <td>97.40</td>\n      <td>NaN</td>\n      <td>NaN</td>\n    </tr>\n  </tbody>\n</table>\n<p>4355 rows × 16 columns</p>\n</div>"
     },
     "execution_count": 18,
     "metadata": {},
     "output_type": "execute_result"
    }
   ],
   "source": [
    "training"
   ],
   "metadata": {
    "collapsed": false,
    "ExecuteTime": {
     "end_time": "2023-06-11T13:41:45.444611600Z",
     "start_time": "2023-06-11T13:41:45.418183700Z"
    }
   }
  },
  {
   "cell_type": "code",
   "execution_count": null,
   "outputs": [],
   "source": [],
   "metadata": {
    "collapsed": false
   }
  }
 ],
 "metadata": {
  "kernelspec": {
   "display_name": "Python 3",
   "language": "python",
   "name": "python3"
  },
  "language_info": {
   "codemirror_mode": {
    "name": "ipython",
    "version": 2
   },
   "file_extension": ".py",
   "mimetype": "text/x-python",
   "name": "python",
   "nbconvert_exporter": "python",
   "pygments_lexer": "ipython2",
   "version": "2.7.6"
  }
 },
 "nbformat": 4,
 "nbformat_minor": 0
}
